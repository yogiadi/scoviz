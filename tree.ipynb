{
 "cells": [
  {
   "cell_type": "code",
   "execution_count": 1,
   "metadata": {},
   "outputs": [],
   "source": [
    "allnodes=[]\n",
    "import weakref\n",
    "class node:\n",
    "    instances = []\n",
    "    def __init__(self,name):\n",
    "        self.__class__.instances.append(weakref.proxy(self))\n",
    "        self.name = name\n",
    "        self.children=[]\n",
    "        self.parent=[]    "
   ]
  },
  {
   "cell_type": "code",
   "execution_count": 2,
   "metadata": {},
   "outputs": [],
   "source": [
    "def nodeparent(parent,children):\n",
    "    parent.children.append(children)\n",
    "#     children.parent.append(parent)"
   ]
  },
  {
   "cell_type": "code",
   "execution_count": 3,
   "metadata": {},
   "outputs": [],
   "source": [
    "def ifparent(parent,children):\n",
    "    if children in parent.children:\n",
    "        return True\n",
    "    else:\n",
    "        return False"
   ]
  },
  {
   "cell_type": "code",
   "execution_count": 4,
   "metadata": {},
   "outputs": [],
   "source": [
    "def ifchildren(parent,children):\n",
    "    if parent in children.parent:\n",
    "        return True\n",
    "    else:\n",
    "        return False"
   ]
  },
  {
   "cell_type": "code",
   "execution_count": 5,
   "metadata": {},
   "outputs": [],
   "source": [
    "A=node('A')\n",
    "B=node('B')\n",
    "C=node('C')"
   ]
  },
  {
   "cell_type": "code",
   "execution_count": 6,
   "metadata": {},
   "outputs": [],
   "source": [
    "nodeparent(A,B)\n",
    "nodeparent(B,C)"
   ]
  },
  {
   "cell_type": "code",
   "execution_count": 7,
   "metadata": {},
   "outputs": [],
   "source": [
    "def todict(obj, classkey=None):\n",
    "    if isinstance(obj, dict):\n",
    "        data = {}\n",
    "        for (k, v) in obj.items():\n",
    "            data[k] = todict(v, classkey)\n",
    "        return data\n",
    "    elif hasattr(obj, \"_ast\"):\n",
    "        return todict(obj._ast())\n",
    "    elif hasattr(obj, \"__iter__\") and not isinstance(obj, str):\n",
    "        return [todict(v, classkey) for v in obj]\n",
    "    elif hasattr(obj, \"__dict__\"):\n",
    "        print(obj.__dict__)\n",
    "        data = dict([(key, todict(value, classkey)) \n",
    "            for key, value in obj.__dict__.items() \n",
    "            if not callable(value) and not key.startswith('_')])\n",
    "        if classkey is not None and hasattr(obj, \"__class__\"):\n",
    "            data[classkey] = obj.__class__.__name__\n",
    "        return data\n",
    "    else:\n",
    "        return obj"
   ]
  },
  {
   "cell_type": "code",
   "execution_count": 8,
   "metadata": {},
   "outputs": [
    {
     "name": "stdout",
     "output_type": "stream",
     "text": [
      "{'parent': [], 'children': [<__main__.node object at 0x000001E5B2462358>], 'name': 'A'}\n",
      "{'parent': [], 'children': [<__main__.node object at 0x000001E5B24623C8>], 'name': 'B'}\n",
      "{'parent': [], 'children': [], 'name': 'C'}\n"
     ]
    },
    {
     "data": {
      "text/plain": [
       "{'children': [{'children': [{'children': [], 'name': 'C', 'parent': []}],\n",
       "   'name': 'B',\n",
       "   'parent': []}],\n",
       " 'name': 'A',\n",
       " 'parent': []}"
      ]
     },
     "execution_count": 8,
     "metadata": {},
     "output_type": "execute_result"
    }
   ],
   "source": [
    "todict(A)"
   ]
  },
  {
   "cell_type": "code",
   "execution_count": null,
   "metadata": {},
   "outputs": [],
   "source": [
    "for i in node.instances:\n",
    "    print(i.name)"
   ]
  },
  {
   "cell_type": "code",
   "execution_count": null,
   "metadata": {},
   "outputs": [],
   "source": [
    "x='sklearn.add.addr'\n",
    "for i in x.split('.'):\n",
    "    if i "
   ]
  }
 ],
 "metadata": {
  "kernelspec": {
   "display_name": "Python [conda env:py3]",
   "language": "python",
   "name": "conda-env-py3-py"
  },
  "language_info": {
   "codemirror_mode": {
    "name": "ipython",
    "version": 3
   },
   "file_extension": ".py",
   "mimetype": "text/x-python",
   "name": "python",
   "nbconvert_exporter": "python",
   "pygments_lexer": "ipython3",
   "version": "3.5.5"
  }
 },
 "nbformat": 4,
 "nbformat_minor": 2
}
