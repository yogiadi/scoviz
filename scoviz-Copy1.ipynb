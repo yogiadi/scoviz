{
 "cells": [
  {
   "cell_type": "code",
   "execution_count": 2,
   "metadata": {
    "colab": {
     "autoexec": {
      "startup": false,
      "wait_interval": 0
     }
    },
    "colab_type": "code",
    "collapsed": true,
    "id": "3Kc1OCbLdGaY"
   },
   "outputs": [],
   "source": [
    "import inspect as ins\n",
    "import sklearn as sk\n",
    "import os\n",
    "import glob\n",
    "from os import walk\n",
    "from networkx.readwrite import json_graph"
   ]
  },
  {
   "cell_type": "code",
   "execution_count": 3,
   "metadata": {},
   "outputs": [],
   "source": [
    "class node:\n",
    "    def __init__(self,name):\n",
    "        self.name = name\n",
    "        self.children=[]\n",
    "        self.parent=[]"
   ]
  },
  {
   "cell_type": "code",
   "execution_count": 4,
   "metadata": {},
   "outputs": [],
   "source": [
    "def nodeparent(parent,children):\n",
    "    parent.children.append(children)\n",
    "    children.parent.append(parent)"
   ]
  },
  {
   "cell_type": "code",
   "execution_count": 5,
   "metadata": {},
   "outputs": [],
   "source": [
    "def ifchildren(parent,children):\n",
    "    if parent in children.parent:\n",
    "        return True\n",
    "    else:\n",
    "        return False"
   ]
  },
  {
   "cell_type": "code",
   "execution_count": 6,
   "metadata": {},
   "outputs": [],
   "source": [
    "def ifparent(parent,children):\n",
    "    if children in parent.children:\n",
    "        return True\n",
    "    else:\n",
    "        return False"
   ]
  },
  {
   "cell_type": "code",
   "execution_count": 7,
   "metadata": {
    "colab": {
     "autoexec": {
      "startup": false,
      "wait_interval": 0
     }
    },
    "colab_type": "code",
    "collapsed": true,
    "id": "hWzXdtrTY4VV"
   },
   "outputs": [],
   "source": [
    "def basedir(filepath):\n",
    "    li=filepath.split('\\\\')\n",
    "    del li[-1]\n",
    "    bdir='\\\\'.join(li)\n",
    "    return bdir"
   ]
  },
  {
   "cell_type": "code",
   "execution_count": 8,
   "metadata": {
    "colab": {
     "autoexec": {
      "startup": false,
      "wait_interval": 0
     }
    },
    "colab_type": "code",
    "collapsed": true,
    "id": "fmZ1Q7L7Y_TB"
   },
   "outputs": [],
   "source": [
    "def allrecfiles(dirpath,extfile=None):\n",
    "    filenames = []\n",
    "    for dirs , subdir , files in os.walk(dirpath):\n",
    "        for name in files:\n",
    "            filename = os.path.join(dirs,name)\n",
    "            if extfile == None:\n",
    "                filenames.append(filename)\n",
    "            else:\n",
    "                if filename.endswith(extfile):\n",
    "                    filenames.append(filename)\n",
    "    return filenames"
   ]
  },
  {
   "cell_type": "code",
   "execution_count": 9,
   "metadata": {
    "colab": {
     "autoexec": {
      "startup": false,
      "wait_interval": 0
     }
    },
    "colab_type": "code",
    "collapsed": true,
    "id": "XSw2sgbtIyGv"
   },
   "outputs": [],
   "source": [
    "def removeext(filename,extfile=None):\n",
    "    li=filename.split(extfile)\n",
    "    return li[0]"
   ]
  },
  {
   "cell_type": "code",
   "execution_count": 10,
   "metadata": {
    "colab": {
     "autoexec": {
      "startup": false,
      "wait_interval": 0
     }
    },
    "colab_type": "code",
    "collapsed": true,
    "id": "P86W1fVPZE2s"
   },
   "outputs": [],
   "source": [
    "def bottompath(filename):\n",
    "    li=filename.split('\\\\')\n",
    "    if li[-1] == '':\n",
    "        return li[-2]\n",
    "    else:\n",
    "        return li[-1]"
   ]
  },
  {
   "cell_type": "code",
   "execution_count": 11,
   "metadata": {
    "colab": {
     "autoexec": {
      "startup": false,
      "wait_interval": 0
     }
    },
    "colab_type": "code",
    "collapsed": true,
    "id": "3Omg-cXZZIIx"
   },
   "outputs": [],
   "source": [
    "def dirdepth(dirpath):\n",
    "    li=dirpath.split('\\\\')\n",
    "    if li[-1] == '':\n",
    "        return len(li) - 1\n",
    "    else:\n",
    "        return len(li)"
   ]
  },
  {
   "cell_type": "code",
   "execution_count": 12,
   "metadata": {
    "colab": {
     "autoexec": {
      "startup": false,
      "wait_interval": 0
     }
    },
    "colab_type": "code",
    "collapsed": true,
    "id": "V8rRjNpFZKZe"
   },
   "outputs": [],
   "source": [
    "def baseroot(dirpath,dirpath1):\n",
    "    dep=dirdepth(dirpath)\n",
    "    arr=dirpath1.split('\\\\')\n",
    "    new_arr=[]\n",
    "    for i in range(dep,len(arr)):\n",
    "        new_arr.append(arr[i])\n",
    "    return new_arr"
   ]
  },
  {
   "cell_type": "code",
   "execution_count": 13,
   "metadata": {
    "colab": {
     "autoexec": {
      "startup": false,
      "wait_interval": 0
     },
     "base_uri": "https://localhost:8080/",
     "height": 34
    },
    "colab_type": "code",
    "executionInfo": {
     "elapsed": 621,
     "status": "ok",
     "timestamp": 1532454296912,
     "user": {
      "displayName": "Aditya Yogi",
      "photoUrl": "//lh3.googleusercontent.com/-UNfuWUK3NHE/AAAAAAAAAAI/AAAAAAAAAmg/LSK0TAUaRgM/s50-c-k-no/photo.jpg",
      "userId": "116391528483862487536"
     },
     "user_tz": -330
    },
    "id": "iy8nMOjZpoRw",
    "outputId": "8fc36dd3-7d9b-480a-d6d0-cf4ad8036470"
   },
   "outputs": [
    {
     "data": {
      "text/plain": [
       "['multioutput']"
      ]
     },
     "execution_count": 13,
     "metadata": {},
     "output_type": "execute_result"
    }
   ],
   "source": [
    "baseroot('F:\\\\Anaconda\\\\Lib\\\\site-packages\\\\sklearn','F:\\\\Anaconda\\\\Lib\\\\site-packages\\\\sklearn\\\\multioutput')"
   ]
  },
  {
   "cell_type": "code",
   "execution_count": 14,
   "metadata": {
    "colab": {
     "autoexec": {
      "startup": false,
      "wait_interval": 0
     }
    },
    "colab_type": "code",
    "collapsed": true,
    "id": "6H9kRk60ZMt-"
   },
   "outputs": [],
   "source": [
    "def getselmem(obj,pred=None):\n",
    "    li=[]\n",
    "    for j in pred:\n",
    "        li.append(ins.getmembers(obj,j))\n",
    "    final_list=[]\n",
    "    for i in li:\n",
    "        for j in i:\n",
    "            final_list.append(j)\n",
    "    return final_list"
   ]
  },
  {
   "cell_type": "code",
   "execution_count": 15,
   "metadata": {
    "colab": {
     "autoexec": {
      "startup": false,
      "wait_interval": 0
     }
    },
    "colab_type": "code",
    "collapsed": true,
    "id": "Yd41eNfDZUJV"
   },
   "outputs": [],
   "source": [
    "def main(allfiles):\n",
    "    di={}\n",
    "    for i in allfiles:\n",
    "        i=removeext(i,'.py')\n",
    "        li=baseroot('F:\\\\Anaconda\\\\Lib\\\\site-packages',i)\n",
    "        importstr=('.').join(li)\n",
    "        str1= 'import ' + importstr \n",
    "        str2='di[\\'' + importstr + '\\']=getselmem(' + importstr +  ',[ins.isfunction,ins.ismethod,ins.isclass])'\n",
    "        try:\n",
    "            exec(str1)\n",
    "            exec(str2)\n",
    "        except:\n",
    "            pass\n",
    "    return di"
   ]
  },
  {
   "cell_type": "code",
   "execution_count": 16,
   "metadata": {
    "colab": {
     "autoexec": {
      "startup": false,
      "wait_interval": 0
     }
    },
    "colab_type": "code",
    "collapsed": true,
    "id": "GXgQC-k_ZXqu"
   },
   "outputs": [],
   "source": [
    "allfiles=allrecfiles('F:\\\\Anaconda\\\\Lib\\\\site-packages\\\\sklearn\\\\','.py')\n",
    "# allrecfiles('F:\\\\Anaconda\\\\Lib\\\\site-packages\\\\sklearn\\\\','.py')"
   ]
  },
  {
   "cell_type": "code",
   "execution_count": 19,
   "metadata": {
    "colab": {
     "autoexec": {
      "startup": false,
      "wait_interval": 0
     },
     "base_uri": "https://localhost:8080/",
     "height": 154
    },
    "colab_type": "code",
    "executionInfo": {
     "elapsed": 1708,
     "status": "ok",
     "timestamp": 1532454304283,
     "user": {
      "displayName": "Aditya Yogi",
      "photoUrl": "//lh3.googleusercontent.com/-UNfuWUK3NHE/AAAAAAAAAAI/AAAAAAAAAmg/LSK0TAUaRgM/s50-c-k-no/photo.jpg",
      "userId": "116391528483862487536"
     },
     "user_tz": -330
    },
    "id": "dd_etIe1l-Q9",
    "outputId": "fcb42074-2f81-4559-c105-29093aceacc6"
   },
   "outputs": [
    {
     "name": "stdout",
     "output_type": "stream",
     "text": [
      "sklearn.decomposition.factor_analysis\n",
      "sklearn.externals.joblib.numpy_pickle\n",
      "sklearn.utils.sparsetools.__init__\n",
      "sklearn.tree.__init__\n",
      "sklearn.utils.setup\n",
      "sklearn.learning_curve\n",
      "sklearn.neighbors.lof\n",
      "sklearn.cluster._feature_agglomeration\n",
      "sklearn.tree.tree\n",
      "sklearn.naive_bayes\n",
      "sklearn.semi_supervised.__init__\n",
      "sklearn.externals.joblib.parallel\n",
      "sklearn.utils.stats\n",
      "sklearn.utils.extmath\n",
      "sklearn.decomposition.sparse_pca\n",
      "sklearn.svm.setup\n",
      "sklearn.metrics.ranking\n",
      "sklearn.linear_model.logistic\n",
      "sklearn.datasets.twenty_newsgroups\n",
      "sklearn.ensemble.gradient_boosting\n",
      "sklearn.decomposition.online_lda\n",
      "sklearn.ensemble.forest\n",
      "sklearn.externals.joblib.memory\n",
      "sklearn.model_selection._validation\n",
      "sklearn.linear_model.perceptron\n",
      "sklearn.semi_supervised.label_propagation\n",
      "sklearn.cluster.__init__\n",
      "sklearn.utils.sparsetools.setup\n",
      "sklearn.datasets.species_distributions\n",
      "sklearn.mixture.tests.__init__\n",
      "sklearn.svm.__init__\n",
      "sklearn.feature_selection.__init__\n",
      "sklearn.utils.arpack\n",
      "sklearn.utils.optimize\n",
      "sklearn.linear_model.ridge\n",
      "sklearn.random_projection\n",
      "sklearn.externals.joblib.my_exceptions\n",
      "sklearn.decomposition.nmf\n",
      "sklearn.semi_supervised.tests.__init__\n",
      "sklearn.linear_model.theil_sen\n",
      "sklearn.neighbors.approximate\n",
      "sklearn.feature_extraction.stop_words\n",
      "sklearn.utils.graph\n",
      "sklearn.ensemble.iforest\n",
      "sklearn.externals.funcsigs\n",
      "sklearn.gaussian_process.tests.__init__\n",
      "sklearn.datasets.mlcomp\n",
      "sklearn.preprocessing.imputation\n",
      "sklearn.tests.__init__\n",
      "sklearn.__check_build.setup\n",
      "sklearn.ensemble.bagging\n",
      "sklearn.utils._scipy_sparse_lsqr_backport\n",
      "sklearn.linear_model.omp\n",
      "sklearn.ensemble.tests.__init__\n",
      "sklearn.decomposition.truncated_svd\n",
      "sklearn.neural_network.multilayer_perceptron\n",
      "sklearn.covariance.graph_lasso_\n",
      "sklearn.externals.joblib._multiprocessing_helpers\n",
      "sklearn.datasets.__init__\n",
      "sklearn.decomposition.pca\n",
      "sklearn.externals.joblib.numpy_pickle_compat\n",
      "sklearn.neural_network._stochastic_optimizers\n",
      "sklearn.utils.fixes\n",
      "sklearn.manifold.mds\n",
      "sklearn.ensemble.weight_boosting\n",
      "sklearn.__init__\n",
      "sklearn.cross_decomposition.tests.__init__\n",
      "sklearn.preprocessing.__init__\n",
      "sklearn.svm.tests.__init__\n",
      "sklearn.metrics.cluster.tests.__init__\n",
      "sklearn.linear_model.coordinate_descent\n",
      "sklearn.feature_selection.mutual_info_\n",
      "sklearn.preprocessing.tests.__init__\n",
      "sklearn.model_selection.__init__\n",
      "sklearn.metrics.cluster.bicluster\n",
      "sklearn.svm.base\n",
      "sklearn.calibration\n",
      "sklearn.externals.joblib.disk\n",
      "sklearn.cluster.affinity_propagation_\n",
      "sklearn.metrics.base\n",
      "sklearn.utils.random\n",
      "sklearn.linear_model.passive_aggressive\n",
      "sklearn.neighbors.graph\n",
      "sklearn.linear_model.tests.__init__\n",
      "sklearn.utils.bench\n",
      "sklearn.multiclass\n",
      "sklearn.utils.tests.test_shortest_path\n",
      "sklearn.externals.joblib.__init__\n",
      "sklearn.manifold.t_sne\n",
      "sklearn.kernel_approximation\n",
      "sklearn.feature_extraction.tests.__init__\n",
      "sklearn.linear_model.sag\n",
      "sklearn.manifold.spectral_embedding_\n",
      "sklearn.cross_decomposition.__init__\n",
      "sklearn.multioutput\n",
      "sklearn.tree.export\n",
      "sklearn.isotonic\n",
      "sklearn.decomposition.base\n",
      "sklearn.externals.joblib.backports\n",
      "sklearn.mixture.gaussian_mixture\n",
      "sklearn.linear_model.huber\n",
      "sklearn.datasets.tests.__init__\n",
      "sklearn.cross_validation\n",
      "sklearn.manifold.__init__\n",
      "sklearn.svm.classes\n",
      "sklearn.decomposition.setup\n",
      "sklearn.linear_model.randomized_l1\n",
      "sklearn.base\n",
      "sklearn._build_utils.__init__\n",
      "sklearn.neighbors.tests.test_quad_tree\n",
      "sklearn.cluster.dbscan_\n",
      "sklearn.pipeline\n",
      "sklearn.cross_decomposition.pls_\n",
      "sklearn.metrics.cluster.__init__\n",
      "sklearn.neighbors.setup\n",
      "sklearn.covariance.robust_covariance\n",
      "sklearn.neural_network._base\n",
      "sklearn.gaussian_process.__init__\n",
      "sklearn.gaussian_process.correlation_models\n",
      "sklearn.datasets.svmlight_format\n",
      "sklearn.mixture.__init__\n",
      "sklearn.neural_network.tests.__init__\n",
      "sklearn.manifold.tests.__init__\n",
      "sklearn.metrics.pairwise\n",
      "sklearn.neighbors.__init__\n",
      "sklearn.ensemble.__init__\n",
      "sklearn.mixture.bayesian_mixture\n",
      "sklearn.neural_network.rbm\n",
      "sklearn.feature_extraction.image\n",
      "sklearn.covariance.empirical_covariance_\n",
      "sklearn.decomposition.kernel_pca\n",
      "sklearn.externals.joblib._parallel_backends\n",
      "sklearn.cluster.spectral\n",
      "sklearn.manifold.locally_linear\n",
      "sklearn.externals.joblib.numpy_pickle_utils\n",
      "sklearn.metrics.__init__\n",
      "sklearn.svm.bounds\n",
      "sklearn.neighbors.tests.__init__\n",
      "sklearn.linear_model.base\n",
      "sklearn.ensemble.voting_classifier\n",
      "sklearn.neighbors.tests.test_nearest_centroid\n",
      "sklearn.externals.joblib._compat\n",
      "sklearn.metrics.regression\n",
      "sklearn.cluster.birch\n",
      "sklearn.utils.sparsefuncs\n",
      "sklearn.cluster.tests.common\n",
      "sklearn.dummy\n",
      "sklearn.manifold.isomap\n",
      "sklearn.linear_model.stochastic_gradient\n",
      "sklearn.cluster.k_means_\n",
      "sklearn.datasets.samples_generator\n",
      "sklearn.externals.joblib.format_stack\n",
      "sklearn.externals.joblib.func_inspect\n",
      "sklearn.externals.six\n",
      "sklearn.__check_build.__init__\n",
      "sklearn.preprocessing.data\n",
      "sklearn.gaussian_process.regression_models\n",
      "sklearn.preprocessing._function_transformer\n",
      "sklearn.externals.setup\n",
      "sklearn.cluster.tests.__init__\n",
      "sklearn.metrics.cluster.supervised\n",
      "sklearn.manifold.setup\n",
      "sklearn.neural_network.__init__\n",
      "sklearn.utils.validation\n",
      "sklearn.model_selection.tests.common\n",
      "sklearn.externals.joblib.hashing\n",
      "sklearn.datasets.kddcup99\n",
      "sklearn.cluster.setup\n",
      "sklearn.cross_decomposition.cca_\n",
      "sklearn.decomposition.dict_learning\n",
      "sklearn.feature_selection.from_model\n",
      "sklearn.externals.joblib._memory_helpers\n",
      "sklearn.datasets.setup\n",
      "sklearn.neighbors.nearest_centroid\n",
      "sklearn.gaussian_process.gaussian_process\n",
      "sklearn.externals.joblib.pool\n",
      "sklearn.linear_model.least_angle\n",
      "sklearn.datasets.california_housing\n",
      "sklearn.preprocessing.label\n",
      "sklearn.mixture.dpgmm\n",
      "sklearn.datasets.mldata\n",
      "sklearn.feature_extraction.__init__\n",
      "sklearn.feature_selection.base\n",
      "sklearn.feature_extraction.setup\n",
      "sklearn.linear_model.__init__\n",
      "sklearn.linear_model.bayes\n",
      "sklearn.grid_search\n",
      "sklearn.model_selection._split\n",
      "sklearn.ensemble.partial_dependence\n",
      "sklearn.utils.sparsetools.tests.__init__\n",
      "sklearn.covariance.__init__\n",
      "sklearn.utils.class_weight\n",
      "sklearn.mixture.base\n",
      "sklearn.feature_extraction.dict_vectorizer\n",
      "sklearn.mixture.gmm\n",
      "sklearn.decomposition.tests.__init__\n",
      "sklearn.datasets.covtype\n",
      "sklearn.externals.__init__\n",
      "sklearn.ensemble.base\n",
      "sklearn.cluster.mean_shift_\n",
      "sklearn.neighbors.unsupervised\n",
      "sklearn.covariance.shrunk_covariance_\n",
      "sklearn.gaussian_process.gpr\n",
      "sklearn.tree.tests.__init__\n",
      "sklearn.feature_selection.univariate_selection\n",
      "sklearn.metrics.cluster.setup\n",
      "sklearn.utils.multiclass\n",
      "sklearn.utils.deprecation\n",
      "sklearn.metrics.scorer\n",
      "sklearn.metrics.tests.__init__\n",
      "sklearn.feature_selection.variance_threshold\n",
      "sklearn.metrics.cluster.unsupervised\n",
      "sklearn.tree.setup\n",
      "sklearn.utils.tests.__init__\n",
      "sklearn.covariance.tests.__init__\n",
      "sklearn.decomposition.fastica_\n",
      "sklearn.linear_model.ransac\n",
      "sklearn.discriminant_analysis\n",
      "sklearn.ensemble.setup\n",
      "sklearn.cluster.bicluster\n",
      "sklearn.model_selection.tests.__init__\n",
      "sklearn.model_selection._search\n",
      "sklearn.kernel_ridge\n",
      "sklearn.utils.linear_assignment_\n",
      "sklearn.neighbors.classification\n",
      "sklearn.linear_model.setup\n",
      "sklearn.cluster.hierarchical\n",
      "sklearn.externals.test_externals_setup\n",
      "sklearn.datasets.base\n",
      "sklearn.datasets.lfw\n",
      "sklearn.neighbors.kde\n",
      "sklearn.utils.__init__\n",
      "sklearn.gaussian_process.kernels\n",
      "sklearn.datasets.rcv1\n",
      "sklearn.neighbors.base\n",
      "sklearn.externals.joblib.logger\n",
      "sklearn.neighbors.regression\n",
      "sklearn.feature_extraction.text\n",
      "sklearn.feature_selection.tests.__init__\n",
      "sklearn.decomposition.__init__\n",
      "sklearn.utils.metaestimators\n",
      "sklearn.metrics.classification\n",
      "sklearn.utils.tests.test_linear_assignment\n",
      "sklearn.metrics.setup\n",
      "sklearn.feature_extraction.hashing\n",
      "sklearn.decomposition.incremental_pca\n",
      "sklearn.datasets.olivetti_faces\n",
      "sklearn.gaussian_process.gpc\n",
      "sklearn.feature_selection.rfe\n",
      "sklearn.exceptions\n",
      "sklearn.setup\n",
      "sklearn.covariance.outlier_detection\n"
     ]
    }
   ],
   "source": [
    "# t=main(allfiles)\n",
    "# print(t)\n",
    "for i in t:\n",
    "    print(i)"
   ]
  },
  {
   "cell_type": "code",
   "execution_count": 48,
   "metadata": {},
   "outputs": [],
   "source": []
  },
  {
   "cell_type": "code",
   "execution_count": 49,
   "metadata": {},
   "outputs": [],
   "source": [
    "for i in t.keys():\n",
    "    x=i.split('.')\n",
    "    if x[0] not in di['start']:\n",
    "        dii={}\n",
    "        dii[str(x[0])]=[]\n",
    "        di['start'].append(dii)\n",
    "    break\n",
    "#     if x[1] not in di['start'][str(x[0])]:\n",
    "#         di['start'][x[0]].append(str(x[1]))        "
   ]
  },
  {
   "cell_type": "code",
   "execution_count": 53,
   "metadata": {},
   "outputs": [],
   "source": [
    "def walk(node):\n",
    "    \"\"\" iterate tree in pre-order depth-first search order \"\"\"\n",
    "    yield node\n",
    "    for child in node.children:\n",
    "        for n in walk(child):\n",
    "            yield n"
   ]
  },
  {
   "cell_type": "code",
   "execution_count": 54,
   "metadata": {},
   "outputs": [
    {
     "ename": "ImportError",
     "evalue": "No module named 'tree'",
     "output_type": "error",
     "traceback": [
      "\u001b[1;31m---------------------------------------------------------------------------\u001b[0m",
      "\u001b[1;31mImportError\u001b[0m                               Traceback (most recent call last)",
      "\u001b[1;32m<ipython-input-54-396e0a80f327>\u001b[0m in \u001b[0;36m<module>\u001b[1;34m()\u001b[0m\n\u001b[1;32m----> 1\u001b[1;33m \u001b[1;32mfrom\u001b[0m \u001b[0mtree\u001b[0m \u001b[1;32mimport\u001b[0m \u001b[0mnode\u001b[0m\u001b[1;33m\u001b[0m\u001b[0m\n\u001b[0m",
      "\u001b[1;31mImportError\u001b[0m: No module named 'tree'"
     ]
    }
   ],
   "source": []
  },
  {
   "cell_type": "code",
   "execution_count": null,
   "metadata": {
    "colab": {
     "autoexec": {
      "startup": false,
      "wait_interval": 0
     },
     "base_uri": "https://localhost:8080/",
     "height": 53474
    },
    "colab_type": "code",
    "collapsed": true,
    "executionInfo": {
     "elapsed": 1656,
     "status": "ok",
     "timestamp": 1532454327270,
     "user": {
      "displayName": "Aditya Yogi",
      "photoUrl": "//lh3.googleusercontent.com/-UNfuWUK3NHE/AAAAAAAAAAI/AAAAAAAAAmg/LSK0TAUaRgM/s50-c-k-no/photo.jpg",
      "userId": "116391528483862487536"
     },
     "user_tz": -330
    },
    "id": "0T3oWO4ymE1e",
    "outputId": "0fc5d457-3b5d-4e92-d747-837067e61f0c"
   },
   "outputs": [],
   "source": [
    "import networkx as nx\n",
    "# from graphviz import Digraph\n",
    "G = nx.DiGraph()\n",
    "# G = Digraph()\n",
    "for i in t.keys():\n",
    "    #node_num = 0\n",
    "    G.add_node(i)\n",
    "    j=t[i]\n",
    "    for k in j:\n",
    "        G.add_node(ins.getmodule(k[1]).__name__ + '.' + k[0])\n",
    "        if i == ins.getmodule(k[1]).__name__ :\n",
    "            G.add_edge(i,ins.getmodule(k[1]).__name__ + '.' + k[0])\n",
    "        else:\n",
    "            G.add_edge(ins.getmodule(k[1]).__name__ + '.' + k[0],i)\n",
    "    #G = nx.relabel.convert_node_labels_to_integers(G)"
   ]
  },
  {
   "cell_type": "code",
   "execution_count": null,
   "metadata": {},
   "outputs": [],
   "source": [
    "json_graph.node_link_data(G)"
   ]
  },
  {
   "cell_type": "code",
   "execution_count": null,
   "metadata": {
    "colab": {
     "autoexec": {
      "startup": false,
      "wait_interval": 0
     }
    },
    "colab_type": "code",
    "collapsed": true,
    "id": "go7G02oEmm_T"
   },
   "outputs": [],
   "source": [
    "def sub_graph(node,G):\n",
    "    li=[]\n",
    "    for j in G.predecessors(node):\n",
    "        li.append(j)\n",
    "    for j in G.successors(node):\n",
    "        li.append(j)\n",
    "    li.append(node)\n",
    "    return G.subgraph(li)"
   ]
  },
  {
   "cell_type": "code",
   "execution_count": null,
   "metadata": {},
   "outputs": [],
   "source": [
    "Gsub=sub_graph('sklearn.naive_bayes',G)"
   ]
  },
  {
   "cell_type": "code",
   "execution_count": null,
   "metadata": {
    "collapsed": true
   },
   "outputs": [],
   "source": [
    "H = nx.DiGraph()\n",
    "H = Gsub.copy()   "
   ]
  },
  {
   "cell_type": "code",
   "execution_count": null,
   "metadata": {
    "collapsed": true
   },
   "outputs": [],
   "source": [
    "for n in Gsub:\n",
    "    arr = n.split('.')\n",
    "    for i in range(len(arr)-1):\n",
    "        H.add_node(arr[i])\n",
    "    for i in range(len(arr)-1):\n",
    "        if i != len(arr) - 2:\n",
    "            H.add_edge(arr[i],arr[i+1])\n",
    "        else:\n",
    "            H.add_edge(arr[i],n)"
   ]
  },
  {
   "cell_type": "code",
   "execution_count": null,
   "metadata": {},
   "outputs": [],
   "source": [
    "for n in H:\n",
    "    print(n)\n",
    "    H.nodes[n]['name'] = n.split('.')[-1]\n",
    "    print(H.nodes[n]['name'])"
   ]
  },
  {
   "cell_type": "code",
   "execution_count": null,
   "metadata": {
    "colab": {
     "autoexec": {
      "startup": false,
      "wait_interval": 0
     }
    },
    "colab_type": "code",
    "id": "qsTejAL_MKWB"
   },
   "outputs": [],
   "source": [
    "# type(nx.node_link_data(sub_graph('sklearn.cross_decomposition.pls_',G)))\n",
    "# import json\n",
    "# # json.dump(nx.node_link_data(sub_graph('sklearn.cross_decomposition.pls_',G)))\n",
    "# # Gsub=sub_graph('sklearn.cross_decomposition.pls_',G)\n",
    "# # for n in Gsub:\n",
    "# #     Gsub.nodes[n]['name'] = n\n",
    "# from networkx.readwrite import json_graph\n",
    "for h in H:\n",
    "    print(H.nodes[h]['name'])"
   ]
  },
  {
   "cell_type": "code",
   "execution_count": null,
   "metadata": {
    "colab": {
     "autoexec": {
      "startup": false,
      "wait_interval": 0
     }
    },
    "colab_type": "code",
    "id": "p1--CKxYoHVy"
   },
   "outputs": [],
   "source": [
    "# from networkx import convert_node_labels_to_integers\n",
    "# Gsub=sub_graph('sklearn.cross_decomposition.pls_',G)\n",
    "Glab=convert_node_labels_to_integers(H)\n",
    "for i in Glab:\n",
    "    print(i)"
   ]
  },
  {
   "cell_type": "code",
   "execution_count": null,
   "metadata": {
    "colab": {
     "autoexec": {
      "startup": false,
      "wait_interval": 0
     }
    },
    "colab_type": "code",
    "id": "EnGqCRQDoreN"
   },
   "outputs": [],
   "source": [
    "# from networkx.readwrite import json_graph\n",
    "d=json_graph.node_link_data(Glab)"
   ]
  },
  {
   "cell_type": "code",
   "execution_count": null,
   "metadata": {
    "colab": {
     "autoexec": {
      "startup": false,
      "wait_interval": 0
     },
     "base_uri": "https://localhost:8080/",
     "height": 756
    },
    "colab_type": "code",
    "executionInfo": {
     "elapsed": 1028,
     "status": "ok",
     "timestamp": 1532458386286,
     "user": {
      "displayName": "Aditya Yogi",
      "photoUrl": "//lh3.googleusercontent.com/-UNfuWUK3NHE/AAAAAAAAAAI/AAAAAAAAAmg/LSK0TAUaRgM/s50-c-k-no/photo.jpg",
      "userId": "116391528483862487536"
     },
     "user_tz": -330
    },
    "id": "nvDOgcuCozOX",
    "outputId": "14db0689-8839-4fd8-a906-978b611782b8"
   },
   "outputs": [],
   "source": [
    "d"
   ]
  },
  {
   "cell_type": "code",
   "execution_count": null,
   "metadata": {
    "colab": {
     "autoexec": {
      "startup": false,
      "wait_interval": 0
     }
    },
    "colab_type": "code",
    "collapsed": true,
    "id": "fEDfN6CTx98I"
   },
   "outputs": [],
   "source": [
    "json.dump(d, open('force.json', 'w'))\n",
    "# from google.colab import files\n",
    "# files.download('force.json')"
   ]
  },
  {
   "cell_type": "markdown",
   "metadata": {
    "colab_type": "text",
    "id": "eMnp8pVUdlFt"
   },
   "source": [
    "# New Section"
   ]
  },
  {
   "cell_type": "code",
   "execution_count": null,
   "metadata": {
    "colab": {
     "autoexec": {
      "startup": false,
      "wait_interval": 0
     },
     "base_uri": "https://localhost:8080/",
     "height": 647
    },
    "colab_type": "code",
    "executionInfo": {
     "elapsed": 953,
     "status": "ok",
     "timestamp": 1532283899002,
     "user": {
      "displayName": "Aditya Yogi",
      "photoUrl": "//lh3.googleusercontent.com/-UNfuWUK3NHE/AAAAAAAAAAI/AAAAAAAAAmg/LSK0TAUaRgM/s50-c-k-no/photo.jpg",
      "userId": "116391528483862487536"
     },
     "user_tz": -330
    },
    "id": "KVexb4aeLx8l",
    "outputId": "4f8b918f-19eb-48e0-a5cf-078983d1c37b"
   },
   "outputs": [],
   "source": [
    "from bokeh.io import show, output_notebook\n",
    "from bokeh.plotting import figure\n",
    "\n",
    "output_notebook()\n",
    "from bokeh.models.graphs import from_networkx\n",
    "from bokeh.models import Range1d, Plot\n",
    "from bokeh.models.graphs import NodesAndLinkedEdges\n",
    "from bokeh.models import Circle, HoverTool, MultiLine\n",
    "\n",
    "plot = Plot(x_range=Range1d(-1.1,1.1), y_range=Range1d(-1.1,1.1))\n",
    "\n",
    "# graph = from_networkx(G, nx.spring_layout, scale=2, center=(0,0))\n",
    "graph = from_networkx(sub_graph('sklearn.cross_decomposition.pls_',G), nx.spring_layout, scale=3, center=(0,0))\n",
    "plot.renderers.append(graph)\n",
    "\n",
    "\n",
    "# Blue circles for nodes, and light grey lines for edges\n",
    "graph.node_renderer.glyph = Circle(size=25, fill_color='#2b83ba')\n",
    "graph.edge_renderer.glyph = MultiLine(line_color=\"#cccccc\", line_alpha=0.8, line_width=2)\n",
    "\n",
    "# green hover for both nodes and edges\n",
    "graph.node_renderer.hover_glyph = Circle(size=25, fill_color='#abdda4')\n",
    "graph.edge_renderer.hover_glyph = MultiLine(line_color='#abdda4', line_width=4)\n",
    "\n",
    "# When we hover over nodes, highlight adjecent edges too\n",
    "graph.inspection_policy = NodesAndLinkedEdges()\n",
    "\n",
    "plot.add_tools(HoverTool(tooltips=None))\n",
    "\n",
    "show(plot)"
   ]
  },
  {
   "cell_type": "code",
   "execution_count": null,
   "metadata": {
    "colab": {
     "autoexec": {
      "startup": false,
      "wait_interval": 0
     }
    },
    "colab_type": "code",
    "collapsed": true,
    "id": "-ZfdqwAyH4rl"
   },
   "outputs": [],
   "source": []
  }
 ],
 "metadata": {
  "colab": {
   "collapsed_sections": [],
   "default_view": {},
   "name": "scoviz.ipynb",
   "provenance": [],
   "toc_visible": true,
   "version": "0.3.2",
   "views": {}
  },
  "kernelspec": {
   "display_name": "Python [conda env:py3]",
   "language": "python",
   "name": "conda-env-py3-py"
  },
  "language_info": {
   "codemirror_mode": {
    "name": "ipython",
    "version": 3
   },
   "file_extension": ".py",
   "mimetype": "text/x-python",
   "name": "python",
   "nbconvert_exporter": "python",
   "pygments_lexer": "ipython3",
   "version": "3.5.5"
  }
 },
 "nbformat": 4,
 "nbformat_minor": 2
}
