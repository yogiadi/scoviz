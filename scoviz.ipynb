{
 "cells": [
  {
   "cell_type": "code",
   "execution_count": 1,
   "metadata": {
    "colab": {
     "autoexec": {
      "startup": false,
      "wait_interval": 0
     }
    },
    "colab_type": "code",
    "id": "3Kc1OCbLdGaY"
   },
   "outputs": [],
   "source": [
    "import inspect as ins\n",
    "import sklearn as sk\n",
    "import os\n",
    "import glob\n",
    "from os import walk"
   ]
  },
  {
   "cell_type": "code",
   "execution_count": 2,
   "metadata": {
    "colab": {
     "autoexec": {
      "startup": false,
      "wait_interval": 0
     }
    },
    "colab_type": "code",
    "collapsed": true,
    "id": "hWzXdtrTY4VV"
   },
   "outputs": [],
   "source": [
    "def basedir(filepath):\n",
    "    li=filepath.split('\\\\')\n",
    "    del li[-1]\n",
    "    bdir='\\\\'.join(li)\n",
    "    return bdir"
   ]
  },
  {
   "cell_type": "code",
   "execution_count": 3,
   "metadata": {
    "colab": {
     "autoexec": {
      "startup": false,
      "wait_interval": 0
     }
    },
    "colab_type": "code",
    "collapsed": true,
    "id": "fmZ1Q7L7Y_TB"
   },
   "outputs": [],
   "source": [
    "def allrecfiles(dirpath,extfile=None):\n",
    "    filenames = []\n",
    "    for dirs , subdir , files in os.walk(dirpath):\n",
    "        for name in files:\n",
    "            filename = os.path.join(dirs,name)\n",
    "            if extfile == None:\n",
    "                filenames.append(filename)\n",
    "            else:\n",
    "                if filename.endswith(extfile):\n",
    "                    filenames.append(filename)\n",
    "    return filenames"
   ]
  },
  {
   "cell_type": "code",
   "execution_count": 4,
   "metadata": {
    "colab": {
     "autoexec": {
      "startup": false,
      "wait_interval": 0
     }
    },
    "colab_type": "code",
    "collapsed": true,
    "id": "XSw2sgbtIyGv"
   },
   "outputs": [],
   "source": [
    "def removeext(filename,extfile=None):\n",
    "    li=filename.split(extfile)\n",
    "    return li[0]"
   ]
  },
  {
   "cell_type": "code",
   "execution_count": 5,
   "metadata": {
    "colab": {
     "autoexec": {
      "startup": false,
      "wait_interval": 0
     }
    },
    "colab_type": "code",
    "collapsed": true,
    "id": "P86W1fVPZE2s"
   },
   "outputs": [],
   "source": [
    "def bottompath(filename):\n",
    "    li=filename.split('\\\\')\n",
    "    if li[-1] == '':\n",
    "        return li[-2]\n",
    "    else:\n",
    "        return li[-1]"
   ]
  },
  {
   "cell_type": "code",
   "execution_count": 6,
   "metadata": {
    "colab": {
     "autoexec": {
      "startup": false,
      "wait_interval": 0
     }
    },
    "colab_type": "code",
    "collapsed": true,
    "id": "3Omg-cXZZIIx"
   },
   "outputs": [],
   "source": [
    "def dirdepth(dirpath):\n",
    "    li=dirpath.split('\\\\')\n",
    "    if li[-1] == '':\n",
    "        return len(li) - 1\n",
    "    else:\n",
    "        return len(li)"
   ]
  },
  {
   "cell_type": "code",
   "execution_count": 7,
   "metadata": {
    "colab": {
     "autoexec": {
      "startup": false,
      "wait_interval": 0
     }
    },
    "colab_type": "code",
    "collapsed": true,
    "id": "V8rRjNpFZKZe"
   },
   "outputs": [],
   "source": [
    "def baseroot(dirpath,dirpath1):\n",
    "    dep=dirdepth(dirpath)\n",
    "    arr=dirpath1.split('\\\\')\n",
    "    new_arr=[]\n",
    "    for i in range(dep,len(arr)):\n",
    "        new_arr.append(arr[i])\n",
    "    return new_arr"
   ]
  },
  {
   "cell_type": "code",
   "execution_count": 13,
   "metadata": {
    "colab": {
     "autoexec": {
      "startup": false,
      "wait_interval": 0
     },
     "base_uri": "https://localhost:8080/",
     "height": 34
    },
    "colab_type": "code",
    "executionInfo": {
     "elapsed": 621,
     "status": "ok",
     "timestamp": 1532454296912,
     "user": {
      "displayName": "Aditya Yogi",
      "photoUrl": "//lh3.googleusercontent.com/-UNfuWUK3NHE/AAAAAAAAAAI/AAAAAAAAAmg/LSK0TAUaRgM/s50-c-k-no/photo.jpg",
      "userId": "116391528483862487536"
     },
     "user_tz": -330
    },
    "id": "iy8nMOjZpoRw",
    "outputId": "8fc36dd3-7d9b-480a-d6d0-cf4ad8036470"
   },
   "outputs": [
    {
     "data": {
      "text/plain": [
       "['multioutput']"
      ]
     },
     "execution_count": 13,
     "metadata": {},
     "output_type": "execute_result"
    }
   ],
   "source": [
    "baseroot('F:\\\\Anaconda\\\\Lib\\\\site-packages\\\\sklearn','F:\\\\Anaconda\\\\Lib\\\\site-packages\\\\sklearn\\\\multioutput')"
   ]
  },
  {
   "cell_type": "code",
   "execution_count": 14,
   "metadata": {
    "colab": {
     "autoexec": {
      "startup": false,
      "wait_interval": 0
     }
    },
    "colab_type": "code",
    "collapsed": true,
    "id": "6H9kRk60ZMt-"
   },
   "outputs": [],
   "source": [
    "def getselmem(obj,pred=None):\n",
    "    li=[]\n",
    "    for j in pred:\n",
    "        li.append(ins.getmembers(obj,j))\n",
    "    final_list=[]\n",
    "    for i in li:\n",
    "        for j in i:\n",
    "            final_list.append(j)\n",
    "    return final_list"
   ]
  },
  {
   "cell_type": "code",
   "execution_count": 23,
   "metadata": {
    "colab": {
     "autoexec": {
      "startup": false,
      "wait_interval": 0
     }
    },
    "colab_type": "code",
    "collapsed": true,
    "id": "Yd41eNfDZUJV"
   },
   "outputs": [],
   "source": [
    "def main(allfiles):\n",
    "    di={}\n",
    "    for i in allfiles:\n",
    "        i=removeext(i,'.py')\n",
    "        li=baseroot('F:\\\\Anaconda\\\\Lib\\\\site-packages',i)\n",
    "        importstr=('.').join(li)\n",
    "        str1= 'import ' + importstr \n",
    "        str2='di[\\'' + importstr + '\\']=getselmem(' + importstr +  ',[ins.isfunction,ins.ismethod,ins.isclass])'\n",
    "        try:\n",
    "            exec(str1)\n",
    "            exec(str2)\n",
    "        except:\n",
    "            pass\n",
    "    return di"
   ]
  },
  {
   "cell_type": "code",
   "execution_count": 24,
   "metadata": {
    "colab": {
     "autoexec": {
      "startup": false,
      "wait_interval": 0
     }
    },
    "colab_type": "code",
    "id": "GXgQC-k_ZXqu"
   },
   "outputs": [],
   "source": [
    "allfiles=allrecfiles('F:\\\\Anaconda\\\\Lib\\\\site-packages\\\\sklearn\\\\','.py')\n",
    "# allrecfiles('F:\\\\Anaconda\\\\Lib\\\\site-packages\\\\sklearn\\\\','.py')"
   ]
  },
  {
   "cell_type": "code",
   "execution_count": 26,
   "metadata": {
    "colab": {
     "autoexec": {
      "startup": false,
      "wait_interval": 0
     },
     "base_uri": "https://localhost:8080/",
     "height": 154
    },
    "colab_type": "code",
    "executionInfo": {
     "elapsed": 1708,
     "status": "ok",
     "timestamp": 1532454304283,
     "user": {
      "displayName": "Aditya Yogi",
      "photoUrl": "//lh3.googleusercontent.com/-UNfuWUK3NHE/AAAAAAAAAAI/AAAAAAAAAmg/LSK0TAUaRgM/s50-c-k-no/photo.jpg",
      "userId": "116391528483862487536"
     },
     "user_tz": -330
    },
    "id": "dd_etIe1l-Q9",
    "outputId": "fcb42074-2f81-4559-c105-29093aceacc6"
   },
   "outputs": [],
   "source": [
    "t=main(allfiles)\n",
    "# print(t)"
   ]
  },
  {
   "cell_type": "code",
   "execution_count": 28,
   "metadata": {
    "colab": {
     "autoexec": {
      "startup": false,
      "wait_interval": 0
     },
     "base_uri": "https://localhost:8080/",
     "height": 53474
    },
    "colab_type": "code",
    "executionInfo": {
     "elapsed": 1656,
     "status": "ok",
     "timestamp": 1532454327270,
     "user": {
      "displayName": "Aditya Yogi",
      "photoUrl": "//lh3.googleusercontent.com/-UNfuWUK3NHE/AAAAAAAAAAI/AAAAAAAAAmg/LSK0TAUaRgM/s50-c-k-no/photo.jpg",
      "userId": "116391528483862487536"
     },
     "user_tz": -330
    },
    "id": "0T3oWO4ymE1e",
    "outputId": "0fc5d457-3b5d-4e92-d747-837067e61f0c"
   },
   "outputs": [],
   "source": [
    "import networkx as nx\n",
    "# from graphviz import Digraph\n",
    "G = nx.DiGraph()\n",
    "# G = Digraph()\n",
    "for i in t.keys():\n",
    "    #node_num = 0\n",
    "    G.add_node(i)\n",
    "    j=t[i]\n",
    "    for k in j:\n",
    "        G.add_node(ins.getmodule(k[1]).__name__ + '.' + k[0])\n",
    "        if i == ins.getmodule(k[1]).__name__ :\n",
    "            G.add_edge(i,ins.getmodule(k[1]).__name__ + '.' + k[0])\n",
    "        else:\n",
    "            G.add_edge(ins.getmodule(k[1]).__name__ + '.' + k[0],i)\n",
    "    #G = nx.relabel.convert_node_labels_to_integers(G)"
   ]
  },
  {
   "cell_type": "code",
   "execution_count": 29,
   "metadata": {
    "colab": {
     "autoexec": {
      "startup": false,
      "wait_interval": 0
     }
    },
    "colab_type": "code",
    "collapsed": true,
    "id": "go7G02oEmm_T"
   },
   "outputs": [],
   "source": [
    "def sub_graph(node,G):\n",
    "    li=[]\n",
    "    for j in G.predecessors(node):\n",
    "        li.append(j)\n",
    "    for j in G.successors(node):\n",
    "        li.append(j)\n",
    "    li.append(node)\n",
    "    return G.subgraph(li)"
   ]
  },
  {
   "cell_type": "code",
   "execution_count": 30,
   "metadata": {
    "collapsed": true
   },
   "outputs": [],
   "source": [
    "Gsub=sub_graph('sklearn.cross_decomposition.pls_',G)"
   ]
  },
  {
   "cell_type": "code",
   "execution_count": 31,
   "metadata": {
    "collapsed": true
   },
   "outputs": [],
   "source": [
    "H = nx.DiGraph()\n",
    "H = Gsub.copy()   "
   ]
  },
  {
   "cell_type": "code",
   "execution_count": 35,
   "metadata": {
    "collapsed": true
   },
   "outputs": [],
   "source": [
    "for n in Gsub:\n",
    "    arr = n.split('.')\n",
    "    for i in range(len(arr)-1):\n",
    "        H.add_node(arr[i])\n",
    "    for i in range(len(arr)-1):\n",
    "        if i != len(arr) - 2:\n",
    "            H.add_edge(arr[i],arr[i+1])\n",
    "        else:\n",
    "            H.add_edge(arr[i],n)"
   ]
  },
  {
   "cell_type": "code",
   "execution_count": 37,
   "metadata": {
    "collapsed": true
   },
   "outputs": [],
   "source": [
    "for n in H:\n",
    "    H.nodes[n]['name'] = n.split('.')[-1]"
   ]
  },
  {
   "cell_type": "code",
   "execution_count": 38,
   "metadata": {
    "colab": {
     "autoexec": {
      "startup": false,
      "wait_interval": 0
     }
    },
    "colab_type": "code",
    "collapsed": true,
    "id": "qsTejAL_MKWB"
   },
   "outputs": [],
   "source": [
    "# type(nx.node_link_data(sub_graph('sklearn.cross_decomposition.pls_',G)))\n",
    "import json\n",
    "# json.dump(nx.node_link_data(sub_graph('sklearn.cross_decomposition.pls_',G)))\n",
    "# Gsub=sub_graph('sklearn.cross_decomposition.pls_',G)\n",
    "# for n in Gsub:\n",
    "#     Gsub.nodes[n]['name'] = n\n",
    "from networkx.readwrite import json_graph"
   ]
  },
  {
   "cell_type": "code",
   "execution_count": 39,
   "metadata": {
    "colab": {
     "autoexec": {
      "startup": false,
      "wait_interval": 0
     }
    },
    "colab_type": "code",
    "collapsed": true,
    "id": "p1--CKxYoHVy"
   },
   "outputs": [],
   "source": [
    "from networkx import convert_node_labels_to_integers\n",
    "# Gsub=sub_graph('sklearn.cross_decomposition.pls_',G)\n",
    "Glab=convert_node_labels_to_integers(H)"
   ]
  },
  {
   "cell_type": "code",
   "execution_count": 40,
   "metadata": {
    "colab": {
     "autoexec": {
      "startup": false,
      "wait_interval": 0
     }
    },
    "colab_type": "code",
    "collapsed": true,
    "id": "EnGqCRQDoreN"
   },
   "outputs": [],
   "source": [
    "from networkx.readwrite import json_graph\n",
    "d = json_graph.node_link_data(Glab)"
   ]
  },
  {
   "cell_type": "code",
   "execution_count": 41,
   "metadata": {
    "colab": {
     "autoexec": {
      "startup": false,
      "wait_interval": 0
     },
     "base_uri": "https://localhost:8080/",
     "height": 756
    },
    "colab_type": "code",
    "executionInfo": {
     "elapsed": 1028,
     "status": "ok",
     "timestamp": 1532458386286,
     "user": {
      "displayName": "Aditya Yogi",
      "photoUrl": "//lh3.googleusercontent.com/-UNfuWUK3NHE/AAAAAAAAAAI/AAAAAAAAAmg/LSK0TAUaRgM/s50-c-k-no/photo.jpg",
      "userId": "116391528483862487536"
     },
     "user_tz": -330
    },
    "id": "nvDOgcuCozOX",
    "outputId": "14db0689-8839-4fd8-a906-978b611782b8"
   },
   "outputs": [
    {
     "data": {
      "text/plain": [
       "{'directed': True,\n",
       " 'graph': {},\n",
       " 'links': [{'source': 0, 'target': 30},\n",
       "  {'source': 1, 'target': 11},\n",
       "  {'source': 2, 'target': 2},\n",
       "  {'source': 2, 'target': 28},\n",
       "  {'source': 3, 'target': 17},\n",
       "  {'source': 3, 'target': 15},\n",
       "  {'source': 4, 'target': 11},\n",
       "  {'source': 5, 'target': 11},\n",
       "  {'source': 6, 'target': 11},\n",
       "  {'source': 7, 'target': 11},\n",
       "  {'source': 7, 'target': 21},\n",
       "  {'source': 8, 'target': 11},\n",
       "  {'source': 11, 'target': 33},\n",
       "  {'source': 11, 'target': 26},\n",
       "  {'source': 11, 'target': 19},\n",
       "  {'source': 11, 'target': 23},\n",
       "  {'source': 11, 'target': 9},\n",
       "  {'source': 11, 'target': 10},\n",
       "  {'source': 11, 'target': 29},\n",
       "  {'source': 12, 'target': 1},\n",
       "  {'source': 13, 'target': 11},\n",
       "  {'source': 14, 'target': 11},\n",
       "  {'source': 15, 'target': 17},\n",
       "  {'source': 16, 'target': 11},\n",
       "  {'source': 17, 'target': 0},\n",
       "  {'source': 17, 'target': 20},\n",
       "  {'source': 17, 'target': 12},\n",
       "  {'source': 18, 'target': 11},\n",
       "  {'source': 20, 'target': 2},\n",
       "  {'source': 21, 'target': 33},\n",
       "  {'source': 21, 'target': 26},\n",
       "  {'source': 21, 'target': 19},\n",
       "  {'source': 21, 'target': 23},\n",
       "  {'source': 21, 'target': 9},\n",
       "  {'source': 21, 'target': 10},\n",
       "  {'source': 21, 'target': 29},\n",
       "  {'source': 22, 'target': 25},\n",
       "  {'source': 22, 'target': 34},\n",
       "  {'source': 22, 'target': 7},\n",
       "  {'source': 24, 'target': 6},\n",
       "  {'source': 25, 'target': 32},\n",
       "  {'source': 25, 'target': 4},\n",
       "  {'source': 25, 'target': 5},\n",
       "  {'source': 27, 'target': 18},\n",
       "  {'source': 27, 'target': 13},\n",
       "  {'source': 27, 'target': 14},\n",
       "  {'source': 28, 'target': 11},\n",
       "  {'source': 30, 'target': 11},\n",
       "  {'source': 31, 'target': 16},\n",
       "  {'source': 31, 'target': 8},\n",
       "  {'source': 32, 'target': 11},\n",
       "  {'source': 34, 'target': 24},\n",
       "  {'source': 34, 'target': 27}],\n",
       " 'multigraph': False,\n",
       " 'nodes': [{'id': 0, 'name': 'decomp_svd'},\n",
       "  {'id': 1, 'name': 'pinv2'},\n",
       "  {'id': 2, 'name': 'arpack'},\n",
       "  {'id': 3, 'name': 'scipy'},\n",
       "  {'id': 4, 'name': 'RegressorMixin'},\n",
       "  {'id': 5, 'name': 'BaseEstimator'},\n",
       "  {'id': 6, 'name': 'svd_flip'},\n",
       "  {'id': 7, 'name': 'cross_decomposition'},\n",
       "  {'id': 8, 'name': 'abstractmethod'},\n",
       "  {'id': 9, 'name': 'PLSCanonical'},\n",
       "  {'id': 10, 'name': '_nipals_twoblocks_inner_loop'},\n",
       "  {'id': 11, 'name': 'pls_'},\n",
       "  {'id': 12, 'name': 'basic'},\n",
       "  {'id': 13, 'name': 'check_is_fitted'},\n",
       "  {'id': 14, 'name': 'check_consistent_length'},\n",
       "  {'id': 15, 'name': 'sparse'},\n",
       "  {'id': 16, 'name': 'ABCMeta'},\n",
       "  {'id': 17, 'name': 'linalg'},\n",
       "  {'id': 18, 'name': 'check_array'},\n",
       "  {'id': 19, 'name': 'PLSSVD'},\n",
       "  {'id': 20, 'name': 'eigen'},\n",
       "  {'id': 21, 'name': 'pls_'},\n",
       "  {'id': 22, 'name': 'sklearn'},\n",
       "  {'id': 23, 'name': 'PLSRegression'},\n",
       "  {'id': 24, 'name': 'extmath'},\n",
       "  {'id': 25, 'name': 'base'},\n",
       "  {'id': 26, 'name': '_svd_cross_product'},\n",
       "  {'id': 27, 'name': 'validation'},\n",
       "  {'id': 28, 'name': 'svds'},\n",
       "  {'id': 29, 'name': '_center_scale_xy'},\n",
       "  {'id': 30, 'name': 'svd'},\n",
       "  {'id': 31, 'name': 'abc'},\n",
       "  {'id': 32, 'name': 'TransformerMixin'},\n",
       "  {'id': 33, 'name': '_PLS'},\n",
       "  {'id': 34, 'name': 'utils'}]}"
      ]
     },
     "execution_count": 41,
     "metadata": {},
     "output_type": "execute_result"
    }
   ],
   "source": [
    "d"
   ]
  },
  {
   "cell_type": "code",
   "execution_count": 42,
   "metadata": {
    "colab": {
     "autoexec": {
      "startup": false,
      "wait_interval": 0
     }
    },
    "colab_type": "code",
    "collapsed": true,
    "id": "fEDfN6CTx98I"
   },
   "outputs": [],
   "source": [
    "json.dump(d, open('force.json', 'w'))\n",
    "# from google.colab import files\n",
    "# files.download('force.json')"
   ]
  },
  {
   "cell_type": "code",
   "execution_count": 22,
   "metadata": {
    "colab": {
     "autoexec": {
      "startup": false,
      "wait_interval": 0
     },
     "base_uri": "https://localhost:8080/",
     "height": 384
    },
    "colab_type": "code",
    "executionInfo": {
     "elapsed": 1029,
     "status": "ok",
     "timestamp": 1532282183599,
     "user": {
      "displayName": "Aditya Yogi",
      "photoUrl": "//lh3.googleusercontent.com/-UNfuWUK3NHE/AAAAAAAAAAI/AAAAAAAAAmg/LSK0TAUaRgM/s50-c-k-no/photo.jpg",
      "userId": "116391528483862487536"
     },
     "user_tz": -330
    },
    "id": "z3co_1cFcP-K",
    "outputId": "492cdf4b-c3c6-4a7a-ada4-4212bade436f"
   },
   "outputs": [
    {
     "name": "stdout",
     "output_type": "stream",
     "text": [
      "{'abc.abstractmethod': array([-212.25208904,  458.96265528]), 'scipy.linalg.decomp_svd.svd': array([466.95672358, 274.109432  ]), 'scipy.sparse.linalg.eigen.arpack.arpack.svds': array([ 467.0216879, -237.7297409]), 'sklearn.cross_decomposition.pls_': array([19.64980664, 20.75182116]), 'sklearn.cross_decomposition.pls_._PLS': array([3264.05694774, 1085.99744188]), 'sklearn.utils.validation.check_is_fitted': array([  15.96980282, -490.0796632 ]), 'sklearn.base.RegressorMixin': array([-236.21740939, -417.33666012]), 'sklearn.utils.validation.check_array': array([515.70257748,  19.85143759]), 'sklearn.cross_decomposition.pls_._svd_cross_product': array([-2534.56160369,    42.28329314]), 'sklearn.base.BaseEstimator': array([-415.40724013, -221.4165141 ]), 'sklearn.cross_decomposition.pls_.PLSRegression': array([-2904.27655653, -1499.36283039]), 'sklearn.cross_decomposition.pls_.PLSSVD': array([ 1399.61973291, -2992.91529481]), 'sklearn.base.TransformerMixin': array([-418.91639049,  298.31795025]), 'sklearn.cross_decomposition.pls_._nipals_twoblocks_inner_loop': array([ 2147.89024521, -2061.26167021]), 'scipy.linalg.basic.pinv2': array([ 33.91410981, 542.73329604]), 'sklearn.utils.extmath.svd_flip': array([-470.10865495,   35.27966974]), 'abc.ABCMeta': array([ 263.70197442, -402.25362713]), 'sklearn.cross_decomposition.pls_._center_scale_xy': array([-2894.34305782,  1794.72260447]), 'sklearn.utils.validation.check_consistent_length': array([276.55284904, 449.34639932]), 'sklearn.cross_decomposition.pls_.PLSCanonical': array([1215.04654449, 3300.        ])}\n"
     ]
    },
    {
     "data": {
      "image/png": "[encoded data removed]",
      "text/plain": [
       "<matplotlib.figure.Figure at 0x7f1c4516a1d0>"
      ]
     },
     "metadata": {
      "tags": []
     },
     "output_type": "display_data"
    }
   ],
   "source": [
    "# list(G.predecessors('sklearn.cross_decomposition.pls_'))\n",
    "s = sub_graph('sklearn.cross_decomposition.pls_',G)\n",
    "pos = nx.drawing.spring_layout(s, scale=3300)\n",
    "print(pos)\n",
    "# print(G.nodes())\n",
    "# plt.subplot(111)\n",
    "# nx.draw(s,pos, with_labels=True,node_size = 15, node_color='#A0CBE2')\n",
    "plt.subplot(122)\n",
    "nx.draw_shell(s,with_labels=True, alpha=0.8, font_size=7)\n",
    "plt.show()"
   ]
  },
  {
   "cell_type": "markdown",
   "metadata": {
    "colab_type": "text",
    "id": "eMnp8pVUdlFt"
   },
   "source": [
    "# New Section"
   ]
  },
  {
   "cell_type": "code",
   "execution_count": 23,
   "metadata": {
    "colab": {
     "autoexec": {
      "startup": false,
      "wait_interval": 0
     },
     "base_uri": "https://localhost:8080/",
     "height": 218
    },
    "colab_type": "code",
    "executionInfo": {
     "elapsed": 2734,
     "status": "ok",
     "timestamp": 1532282188348,
     "user": {
      "displayName": "Aditya Yogi",
      "photoUrl": "//lh3.googleusercontent.com/-UNfuWUK3NHE/AAAAAAAAAAI/AAAAAAAAAmg/LSK0TAUaRgM/s50-c-k-no/photo.jpg",
      "userId": "116391528483862487536"
     },
     "user_tz": -330
    },
    "id": "wv1HjHcZL7iJ",
    "outputId": "baa10c6e-94f7-4a25-d79e-862b19c02433"
   },
   "outputs": [
    {
     "name": "stdout",
     "output_type": "stream",
     "text": [
      "Requirement already satisfied: bokeh in /usr/local/lib/python3.6/dist-packages (0.13.0)\n",
      "Requirement already satisfied: tornado>=4.3 in /usr/local/lib/python3.6/dist-packages (from bokeh) (4.5.3)\n",
      "Requirement already satisfied: packaging>=16.8 in /usr/local/lib/python3.6/dist-packages (from bokeh) (17.1)\n",
      "Requirement already satisfied: numpy>=1.7.1 in /usr/local/lib/python3.6/dist-packages (from bokeh) (1.14.5)\n",
      "Requirement already satisfied: Jinja2>=2.7 in /usr/local/lib/python3.6/dist-packages (from bokeh) (2.10)\n",
      "Requirement already satisfied: PyYAML>=3.10 in /usr/local/lib/python3.6/dist-packages (from bokeh) (3.13)\n",
      "Requirement already satisfied: six>=1.5.2 in /usr/local/lib/python3.6/dist-packages (from bokeh) (1.11.0)\n",
      "Requirement already satisfied: python-dateutil>=2.1 in /usr/local/lib/python3.6/dist-packages (from bokeh) (2.5.3)\n",
      "Requirement already satisfied: pyparsing>=2.0.2 in /usr/local/lib/python3.6/dist-packages (from packaging>=16.8->bokeh) (2.2.0)\n",
      "Requirement already satisfied: MarkupSafe>=0.23 in /usr/local/lib/python3.6/dist-packages (from Jinja2>=2.7->bokeh) (1.0)\n",
      "\u001b[33mYou are using pip version 10.0.1, however version 18.0 is available.\n",
      "You should consider upgrading via the 'pip install --upgrade pip' command.\u001b[0m\n"
     ]
    }
   ],
   "source": [
    "!pip install bokeh"
   ]
  },
  {
   "cell_type": "code",
   "execution_count": 26,
   "metadata": {
    "colab": {
     "autoexec": {
      "startup": false,
      "wait_interval": 0
     },
     "base_uri": "https://localhost:8080/",
     "height": 647
    },
    "colab_type": "code",
    "executionInfo": {
     "elapsed": 953,
     "status": "ok",
     "timestamp": 1532283899002,
     "user": {
      "displayName": "Aditya Yogi",
      "photoUrl": "//lh3.googleusercontent.com/-UNfuWUK3NHE/AAAAAAAAAAI/AAAAAAAAAmg/LSK0TAUaRgM/s50-c-k-no/photo.jpg",
      "userId": "116391528483862487536"
     },
     "user_tz": -330
    },
    "id": "KVexb4aeLx8l",
    "outputId": "4f8b918f-19eb-48e0-a5cf-078983d1c37b"
   },
   "outputs": [
    {
     "data": {
      "text/html": [
       "\n",
       "    <div class=\"bk-root\">\n",
       "        <a href=\"https://bokeh.pydata.org\" target=\"_blank\" class=\"bk-logo bk-logo-small bk-logo-notebook\"></a>\n",
       "        <span id=\"e84334c6-26d9-4ce2-85eb-301dcac29153\">Loading BokehJS ...</span>\n",
       "    </div>"
      ]
     },
     "metadata": {
      "tags": []
     },
     "output_type": "display_data"
    },
    {
     "data": {
      "application/javascript": [
       "\n",
       "(function(root) {\n",
       "  function now() {\n",
       "    return new Date();\n",
       "  }\n",
       "\n",
       "  var force = true;\n",
       "\n",
       "  if (typeof (root._bokeh_onload_callbacks) === \"undefined\" || force === true) {\n",
       "    root._bokeh_onload_callbacks = [];\n",
       "    root._bokeh_is_loading = undefined;\n",
       "  }\n",
       "\n",
       "  var JS_MIME_TYPE = 'application/javascript';\n",
       "  var HTML_MIME_TYPE = 'text/html';\n",
       "  var EXEC_MIME_TYPE = 'application/vnd.bokehjs_exec.v0+json';\n",
       "  var CLASS_NAME = 'output_bokeh rendered_html';\n",
       "\n",
       "  /**\n",
       "   * Render data to the DOM node\n",
       "   */\n",
       "  function render(props, node) {\n",
       "    var script = document.createElement(\"script\");\n",
       "    node.appendChild(script);\n",
       "  }\n",
       "\n",
       "  /**\n",
       "   * Handle when an output is cleared or removed\n",
       "   */\n",
       "  function handleClearOutput(event, handle) {\n",
       "    var cell = handle.cell;\n",
       "\n",
       "    var id = cell.output_area._bokeh_element_id;\n",
       "    var server_id = cell.output_area._bokeh_server_id;\n",
       "    // Clean up Bokeh references\n",
       "    if (id != null && id in Bokeh.index) {\n",
       "      Bokeh.index[id].model.document.clear();\n",
       "      delete Bokeh.index[id];\n",
       "    }\n",
       "\n",
       "    if (server_id !== undefined) {\n",
       "      // Clean up Bokeh references\n",
       "      var cmd = \"from bokeh.io.state import curstate; print(curstate().uuid_to_server['\" + server_id + \"'].get_sessions()[0].document.roots[0]._id)\";\n",
       "      cell.notebook.kernel.execute(cmd, {\n",
       "        iopub: {\n",
       "          output: function(msg) {\n",
       "            var id = msg.content.text.trim();\n",
       "            if (id in Bokeh.index) {\n",
       "              Bokeh.index[id].model.document.clear();\n",
       "              delete Bokeh.index[id];\n",
       "            }\n",
       "          }\n",
       "        }\n",
       "      });\n",
       "      // Destroy server and session\n",
       "      var cmd = \"import bokeh.io.notebook as ion; ion.destroy_server('\" + server_id + \"')\";\n",
       "      cell.notebook.kernel.execute(cmd);\n",
       "    }\n",
       "  }\n",
       "\n",
       "  /**\n",
       "   * Handle when a new output is added\n",
       "   */\n",
       "  function handleAddOutput(event, handle) {\n",
       "    var output_area = handle.output_area;\n",
       "    var output = handle.output;\n",
       "\n",
       "    // limit handleAddOutput to display_data with EXEC_MIME_TYPE content only\n",
       "    if ((output.output_type != \"display_data\") || (!output.data.hasOwnProperty(EXEC_MIME_TYPE))) {\n",
       "      return\n",
       "    }\n",
       "\n",
       "    var toinsert = output_area.element.find(\".\" + CLASS_NAME.split(' ')[0]);\n",
       "\n",
       "    if (output.metadata[EXEC_MIME_TYPE][\"id\"] !== undefined) {\n",
       "      toinsert[toinsert.length - 1].firstChild.textContent = output.data[JS_MIME_TYPE];\n",
       "      // store reference to embed id on output_area\n",
       "      output_area._bokeh_element_id = output.metadata[EXEC_MIME_TYPE][\"id\"];\n",
       "    }\n",
       "    if (output.metadata[EXEC_MIME_TYPE][\"server_id\"] !== undefined) {\n",
       "      var bk_div = document.createElement(\"div\");\n",
       "      bk_div.innerHTML = output.data[HTML_MIME_TYPE];\n",
       "      var script_attrs = bk_div.children[0].attributes;\n",
       "      for (var i = 0; i < script_attrs.length; i++) {\n",
       "        toinsert[toinsert.length - 1].firstChild.setAttribute(script_attrs[i].name, script_attrs[i].value);\n",
       "      }\n",
       "      // store reference to server id on output_area\n",
       "      output_area._bokeh_server_id = output.metadata[EXEC_MIME_TYPE][\"server_id\"];\n",
       "    }\n",
       "  }\n",
       "\n",
       "  function register_renderer(events, OutputArea) {\n",
       "\n",
       "    function append_mime(data, metadata, element) {\n",
       "      // create a DOM node to render to\n",
       "      var toinsert = this.create_output_subarea(\n",
       "        metadata,\n",
       "        CLASS_NAME,\n",
       "        EXEC_MIME_TYPE\n",
       "      );\n",
       "      this.keyboard_manager.register_events(toinsert);\n",
       "      // Render to node\n",
       "      var props = {data: data, metadata: metadata[EXEC_MIME_TYPE]};\n",
       "      render(props, toinsert[toinsert.length - 1]);\n",
       "      element.append(toinsert);\n",
       "      return toinsert\n",
       "    }\n",
       "\n",
       "    /* Handle when an output is cleared or removed */\n",
       "    events.on('clear_output.CodeCell', handleClearOutput);\n",
       "    events.on('delete.Cell', handleClearOutput);\n",
       "\n",
       "    /* Handle when a new output is added */\n",
       "    events.on('output_added.OutputArea', handleAddOutput);\n",
       "\n",
       "    /**\n",
       "     * Register the mime type and append_mime function with output_area\n",
       "     */\n",
       "    OutputArea.prototype.register_mime_type(EXEC_MIME_TYPE, append_mime, {\n",
       "      /* Is output safe? */\n",
       "      safe: true,\n",
       "      /* Index of renderer in `output_area.display_order` */\n",
       "      index: 0\n",
       "    });\n",
       "  }\n",
       "\n",
       "  // register the mime type if in Jupyter Notebook environment and previously unregistered\n",
       "  if (root.Jupyter !== undefined) {\n",
       "    var events = require('base/js/events');\n",
       "    var OutputArea = require('notebook/js/outputarea').OutputArea;\n",
       "\n",
       "    if (OutputArea.prototype.mime_types().indexOf(EXEC_MIME_TYPE) == -1) {\n",
       "      register_renderer(events, OutputArea);\n",
       "    }\n",
       "  }\n",
       "\n",
       "  \n",
       "  if (typeof (root._bokeh_timeout) === \"undefined\" || force === true) {\n",
       "    root._bokeh_timeout = Date.now() + 5000;\n",
       "    root._bokeh_failed_load = false;\n",
       "  }\n",
       "\n",
       "  var NB_LOAD_WARNING = {'data': {'text/html':\n",
       "     \"<div style='background-color: #fdd'>\\n\"+\n",
       "     \"<p>\\n\"+\n",
       "     \"BokehJS does not appear to have successfully loaded. If loading BokehJS from CDN, this \\n\"+\n",
       "     \"may be due to a slow or bad network connection. Possible fixes:\\n\"+\n",
       "     \"</p>\\n\"+\n",
       "     \"<ul>\\n\"+\n",
       "     \"<li>re-rerun `output_notebook()` to attempt to load from CDN again, or</li>\\n\"+\n",
       "     \"<li>use INLINE resources instead, as so:</li>\\n\"+\n",
       "     \"</ul>\\n\"+\n",
       "     \"<code>\\n\"+\n",
       "     \"from bokeh.resources import INLINE\\n\"+\n",
       "     \"output_notebook(resources=INLINE)\\n\"+\n",
       "     \"</code>\\n\"+\n",
       "     \"</div>\"}};\n",
       "\n",
       "  function display_loaded() {\n",
       "    var el = document.getElementById(\"e84334c6-26d9-4ce2-85eb-301dcac29153\");\n",
       "    if (el != null) {\n",
       "      el.textContent = \"BokehJS is loading...\";\n",
       "    }\n",
       "    if (root.Bokeh !== undefined) {\n",
       "      if (el != null) {\n",
       "        el.textContent = \"BokehJS \" + root.Bokeh.version + \" successfully loaded.\";\n",
       "      }\n",
       "    } else if (Date.now() < root._bokeh_timeout) {\n",
       "      setTimeout(display_loaded, 100)\n",
       "    }\n",
       "  }\n",
       "\n",
       "\n",
       "  function run_callbacks() {\n",
       "    try {\n",
       "      root._bokeh_onload_callbacks.forEach(function(callback) { callback() });\n",
       "    }\n",
       "    finally {\n",
       "      delete root._bokeh_onload_callbacks\n",
       "    }\n",
       "    console.info(\"Bokeh: all callbacks have finished\");\n",
       "  }\n",
       "\n",
       "  function load_libs(js_urls, callback) {\n",
       "    root._bokeh_onload_callbacks.push(callback);\n",
       "    if (root._bokeh_is_loading > 0) {\n",
       "      console.log(\"Bokeh: BokehJS is being loaded, scheduling callback at\", now());\n",
       "      return null;\n",
       "    }\n",
       "    if (js_urls == null || js_urls.length === 0) {\n",
       "      run_callbacks();\n",
       "      return null;\n",
       "    }\n",
       "    console.log(\"Bokeh: BokehJS not loaded, scheduling load and callback at\", now());\n",
       "    root._bokeh_is_loading = js_urls.length;\n",
       "    for (var i = 0; i < js_urls.length; i++) {\n",
       "      var url = js_urls[i];\n",
       "      var s = document.createElement('script');\n",
       "      s.src = url;\n",
       "      s.async = false;\n",
       "      s.onreadystatechange = s.onload = function() {\n",
       "        root._bokeh_is_loading--;\n",
       "        if (root._bokeh_is_loading === 0) {\n",
       "          console.log(\"Bokeh: all BokehJS libraries loaded\");\n",
       "          run_callbacks()\n",
       "        }\n",
       "      };\n",
       "      s.onerror = function() {\n",
       "        console.warn(\"failed to load library \" + url);\n",
       "      };\n",
       "      console.log(\"Bokeh: injecting script tag for BokehJS library: \", url);\n",
       "      document.getElementsByTagName(\"head\")[0].appendChild(s);\n",
       "    }\n",
       "  };var element = document.getElementById(\"e84334c6-26d9-4ce2-85eb-301dcac29153\");\n",
       "  if (element == null) {\n",
       "    console.log(\"Bokeh: ERROR: autoload.js configured with elementid 'e84334c6-26d9-4ce2-85eb-301dcac29153' but no matching script tag was found. \")\n",
       "    return false;\n",
       "  }\n",
       "\n",
       "  var js_urls = [\"https://cdn.pydata.org/bokeh/release/bokeh-0.13.0.min.js\", \"https://cdn.pydata.org/bokeh/release/bokeh-widgets-0.13.0.min.js\", \"https://cdn.pydata.org/bokeh/release/bokeh-tables-0.13.0.min.js\", \"https://cdn.pydata.org/bokeh/release/bokeh-gl-0.13.0.min.js\"];\n",
       "\n",
       "  var inline_js = [\n",
       "    function(Bokeh) {\n",
       "      Bokeh.set_log_level(\"info\");\n",
       "    },\n",
       "    \n",
       "    function(Bokeh) {\n",
       "      \n",
       "    },\n",
       "    function(Bokeh) {\n",
       "      console.log(\"Bokeh: injecting CSS: https://cdn.pydata.org/bokeh/release/bokeh-0.13.0.min.css\");\n",
       "      Bokeh.embed.inject_css(\"https://cdn.pydata.org/bokeh/release/bokeh-0.13.0.min.css\");\n",
       "      console.log(\"Bokeh: injecting CSS: https://cdn.pydata.org/bokeh/release/bokeh-widgets-0.13.0.min.css\");\n",
       "      Bokeh.embed.inject_css(\"https://cdn.pydata.org/bokeh/release/bokeh-widgets-0.13.0.min.css\");\n",
       "      console.log(\"Bokeh: injecting CSS: https://cdn.pydata.org/bokeh/release/bokeh-tables-0.13.0.min.css\");\n",
       "      Bokeh.embed.inject_css(\"https://cdn.pydata.org/bokeh/release/bokeh-tables-0.13.0.min.css\");\n",
       "    }\n",
       "  ];\n",
       "\n",
       "  function run_inline_js() {\n",
       "    \n",
       "    if ((root.Bokeh !== undefined) || (force === true)) {\n",
       "      for (var i = 0; i < inline_js.length; i++) {\n",
       "        inline_js[i].call(root, root.Bokeh);\n",
       "      }if (force === true) {\n",
       "        display_loaded();\n",
       "      }} else if (Date.now() < root._bokeh_timeout) {\n",
       "      setTimeout(run_inline_js, 100);\n",
       "    } else if (!root._bokeh_failed_load) {\n",
       "      console.log(\"Bokeh: BokehJS failed to load within specified timeout.\");\n",
       "      root._bokeh_failed_load = true;\n",
       "    } else if (force !== true) {\n",
       "      var cell = $(document.getElementById(\"e84334c6-26d9-4ce2-85eb-301dcac29153\")).parents('.cell').data().cell;\n",
       "      cell.output_area.append_execute_result(NB_LOAD_WARNING)\n",
       "    }\n",
       "\n",
       "  }\n",
       "\n",
       "  if (root._bokeh_is_loading === 0) {\n",
       "    console.log(\"Bokeh: BokehJS loaded, going straight to plotting\");\n",
       "    run_inline_js();\n",
       "  } else {\n",
       "    load_libs(js_urls, function() {\n",
       "      console.log(\"Bokeh: BokehJS plotting callback run at\", now());\n",
       "      run_inline_js();\n",
       "    });\n",
       "  }\n",
       "}(window));"
      ],
      "application/vnd.bokehjs_load.v0+json": "\n(function(root) {\n  function now() {\n    return new Date();\n  }\n\n  var force = true;\n\n  if (typeof (root._bokeh_onload_callbacks) === \"undefined\" || force === true) {\n    root._bokeh_onload_callbacks = [];\n    root._bokeh_is_loading = undefined;\n  }\n\n  \n\n  \n  if (typeof (root._bokeh_timeout) === \"undefined\" || force === true) {\n    root._bokeh_timeout = Date.now() + 5000;\n    root._bokeh_failed_load = false;\n  }\n\n  var NB_LOAD_WARNING = {'data': {'text/html':\n     \"<div style='background-color: #fdd'>\\n\"+\n     \"<p>\\n\"+\n     \"BokehJS does not appear to have successfully loaded. If loading BokehJS from CDN, this \\n\"+\n     \"may be due to a slow or bad network connection. Possible fixes:\\n\"+\n     \"</p>\\n\"+\n     \"<ul>\\n\"+\n     \"<li>re-rerun `output_notebook()` to attempt to load from CDN again, or</li>\\n\"+\n     \"<li>use INLINE resources instead, as so:</li>\\n\"+\n     \"</ul>\\n\"+\n     \"<code>\\n\"+\n     \"from bokeh.resources import INLINE\\n\"+\n     \"output_notebook(resources=INLINE)\\n\"+\n     \"</code>\\n\"+\n     \"</div>\"}};\n\n  function display_loaded() {\n    var el = document.getElementById(\"e84334c6-26d9-4ce2-85eb-301dcac29153\");\n    if (el != null) {\n      el.textContent = \"BokehJS is loading...\";\n    }\n    if (root.Bokeh !== undefined) {\n      if (el != null) {\n        el.textContent = \"BokehJS \" + root.Bokeh.version + \" successfully loaded.\";\n      }\n    } else if (Date.now() < root._bokeh_timeout) {\n      setTimeout(display_loaded, 100)\n    }\n  }\n\n\n  function run_callbacks() {\n    try {\n      root._bokeh_onload_callbacks.forEach(function(callback) { callback() });\n    }\n    finally {\n      delete root._bokeh_onload_callbacks\n    }\n    console.info(\"Bokeh: all callbacks have finished\");\n  }\n\n  function load_libs(js_urls, callback) {\n    root._bokeh_onload_callbacks.push(callback);\n    if (root._bokeh_is_loading > 0) {\n      console.log(\"Bokeh: BokehJS is being loaded, scheduling callback at\", now());\n      return null;\n    }\n    if (js_urls == null || js_urls.length === 0) {\n      run_callbacks();\n      return null;\n    }\n    console.log(\"Bokeh: BokehJS not loaded, scheduling load and callback at\", now());\n    root._bokeh_is_loading = js_urls.length;\n    for (var i = 0; i < js_urls.length; i++) {\n      var url = js_urls[i];\n      var s = document.createElement('script');\n      s.src = url;\n      s.async = false;\n      s.onreadystatechange = s.onload = function() {\n        root._bokeh_is_loading--;\n        if (root._bokeh_is_loading === 0) {\n          console.log(\"Bokeh: all BokehJS libraries loaded\");\n          run_callbacks()\n        }\n      };\n      s.onerror = function() {\n        console.warn(\"failed to load library \" + url);\n      };\n      console.log(\"Bokeh: injecting script tag for BokehJS library: \", url);\n      document.getElementsByTagName(\"head\")[0].appendChild(s);\n    }\n  };var element = document.getElementById(\"e84334c6-26d9-4ce2-85eb-301dcac29153\");\n  if (element == null) {\n    console.log(\"Bokeh: ERROR: autoload.js configured with elementid 'e84334c6-26d9-4ce2-85eb-301dcac29153' but no matching script tag was found. \")\n    return false;\n  }\n\n  var js_urls = [\"https://cdn.pydata.org/bokeh/release/bokeh-0.13.0.min.js\", \"https://cdn.pydata.org/bokeh/release/bokeh-widgets-0.13.0.min.js\", \"https://cdn.pydata.org/bokeh/release/bokeh-tables-0.13.0.min.js\", \"https://cdn.pydata.org/bokeh/release/bokeh-gl-0.13.0.min.js\"];\n\n  var inline_js = [\n    function(Bokeh) {\n      Bokeh.set_log_level(\"info\");\n    },\n    \n    function(Bokeh) {\n      \n    },\n    function(Bokeh) {\n      console.log(\"Bokeh: injecting CSS: https://cdn.pydata.org/bokeh/release/bokeh-0.13.0.min.css\");\n      Bokeh.embed.inject_css(\"https://cdn.pydata.org/bokeh/release/bokeh-0.13.0.min.css\");\n      console.log(\"Bokeh: injecting CSS: https://cdn.pydata.org/bokeh/release/bokeh-widgets-0.13.0.min.css\");\n      Bokeh.embed.inject_css(\"https://cdn.pydata.org/bokeh/release/bokeh-widgets-0.13.0.min.css\");\n      console.log(\"Bokeh: injecting CSS: https://cdn.pydata.org/bokeh/release/bokeh-tables-0.13.0.min.css\");\n      Bokeh.embed.inject_css(\"https://cdn.pydata.org/bokeh/release/bokeh-tables-0.13.0.min.css\");\n    }\n  ];\n\n  function run_inline_js() {\n    \n    if ((root.Bokeh !== undefined) || (force === true)) {\n      for (var i = 0; i < inline_js.length; i++) {\n        inline_js[i].call(root, root.Bokeh);\n      }if (force === true) {\n        display_loaded();\n      }} else if (Date.now() < root._bokeh_timeout) {\n      setTimeout(run_inline_js, 100);\n    } else if (!root._bokeh_failed_load) {\n      console.log(\"Bokeh: BokehJS failed to load within specified timeout.\");\n      root._bokeh_failed_load = true;\n    } else if (force !== true) {\n      var cell = $(document.getElementById(\"e84334c6-26d9-4ce2-85eb-301dcac29153\")).parents('.cell').data().cell;\n      cell.output_area.append_execute_result(NB_LOAD_WARNING)\n    }\n\n  }\n\n  if (root._bokeh_is_loading === 0) {\n    console.log(\"Bokeh: BokehJS loaded, going straight to plotting\");\n    run_inline_js();\n  } else {\n    load_libs(js_urls, function() {\n      console.log(\"Bokeh: BokehJS plotting callback run at\", now());\n      run_inline_js();\n    });\n  }\n}(window));"
     },
     "metadata": {
      "tags": []
     },
     "output_type": "display_data"
    },
    {
     "data": {
      "text/html": [
       "\n",
       "\n",
       "\n",
       "\n",
       "\n",
       "\n",
       "  <div class=\"bk-root\" id=\"20ee8f39-5999-4263-b925-d9055e91007d\"></div>\n"
      ]
     },
     "metadata": {
      "tags": []
     },
     "output_type": "display_data"
    },
    {
     "data": {
      "application/javascript": [
       "(function(root) {\n",
       "  function embed_document(root) {\n",
       "    \n",
       "  var docs_json = {\"0f9a4a5a-99ef-4d49-a9ce-f64ad66f6f14\":{\"roots\":{\"references\":[{\"attributes\":{\"graph_layout\":{\"abc.ABCMeta\":[-0.35209325553729953,0.2988705631974246],\"abc.abstractmethod\":[0.05320472621725955,-0.5059428203716255],\"scipy.linalg.basic.pinv2\":[-0.46743857022928786,0.09287875939121877],\"scipy.linalg.decomp_svd.svd\":[0.10657882043873378,0.40297839110004974],\"scipy.sparse.linalg.eigen.arpack.arpack.svds\":[0.4253742588432788,0.04601622051967744],\"sklearn.base.BaseEstimator\":[0.2992145219135916,0.25574216819404566],\"sklearn.base.RegressorMixin\":[-0.13633549271183304,0.4043183301626174],\"sklearn.base.TransformerMixin\":[-0.1679031898215969,-0.44072793903882884],\"sklearn.cross_decomposition.pls_\":[-0.023529688580501154,-0.032717683697594445],\"sklearn.cross_decomposition.pls_.PLSCanonical\":[1.347458061583673,1.7518964893493019],\"sklearn.cross_decomposition.pls_.PLSRegression\":[-0.2256115739850564,-3.0],\"sklearn.cross_decomposition.pls_.PLSSVD\":[2.4631998239365265,0.6265427016210642],\"sklearn.cross_decomposition.pls_._PLS\":[-2.5018614748721784,-1.7990340685272015],\"sklearn.cross_decomposition.pls_._center_scale_xy\":[-2.908157284386775,0.7014872754266903],\"sklearn.cross_decomposition.pls_._nipals_twoblocks_inner_loop\":[2.9576856373099054,-0.30704107793384333],\"sklearn.cross_decomposition.pls_._svd_cross_product\":[-0.6693073522145893,2.5929659096534468],\"sklearn.utils.extmath.svd_flip\":[0.26425242041923114,-0.3926056194224466],\"sklearn.utils.validation.check_array\":[-0.38611811649510547,-0.36410453491974465],\"sklearn.utils.validation.check_consistent_length\":[-0.46638170834836856,-0.14040244347233213],\"sklearn.utils.validation.check_is_fitted\":[0.3877694365203914,-0.19112062123192283]}},\"id\":\"6ec1c6fa-bd2e-4d76-a79d-8a2f8887db20\",\"type\":\"StaticLayoutProvider\"},{\"attributes\":{\"source\":{\"id\":\"629efbe9-2547-4d8f-b374-5e947b8dfaa0\",\"type\":\"ColumnDataSource\"}},\"id\":\"8c443ea1-49c1-4f07-9248-f68f3df934e7\",\"type\":\"CDSView\"},{\"attributes\":{},\"id\":\"87226f58-e788-4669-b512-97153cb47838\",\"type\":\"LinearScale\"},{\"attributes\":{\"line_color\":{\"value\":\"#abdda4\"},\"line_width\":{\"value\":4}},\"id\":\"7a635167-084a-460a-ba19-4ef8fcb92c2b\",\"type\":\"MultiLine\"},{\"attributes\":{\"fill_color\":{\"value\":\"#abdda4\"},\"size\":{\"units\":\"screen\",\"value\":25}},\"id\":\"e6375a3b-0275-4a42-a582-35d77adf0600\",\"type\":\"Circle\"},{\"attributes\":{},\"id\":\"549d6c36-746a-4bda-87e0-8b5e91ccef1a\",\"type\":\"UnionRenderers\"},{\"attributes\":{},\"id\":\"a6978ad2-0c73-4351-84c2-be84cef6fbaf\",\"type\":\"LinearScale\"},{\"attributes\":{\"active_drag\":\"auto\",\"active_inspect\":\"auto\",\"active_multi\":null,\"active_scroll\":\"auto\",\"active_tap\":\"auto\",\"tools\":[{\"id\":\"9c4a77c0-6c5c-4193-b11c-dd5d9509c3c9\",\"type\":\"HoverTool\"}]},\"id\":\"bf002332-2b3e-4c13-bbd3-720cb4c730a4\",\"type\":\"Toolbar\"},{\"attributes\":{\"callback\":null,\"end\":1.1,\"start\":-1.1},\"id\":\"ceb9b92b-b662-40ac-b37a-2a1c9ffa1b02\",\"type\":\"Range1d\"},{\"attributes\":{},\"id\":\"f534d7c7-d824-498a-a67d-e4feb7e31350\",\"type\":\"NodesOnly\"},{\"attributes\":{\"source\":{\"id\":\"2a9902f0-9020-43bb-9260-23dfdbfab935\",\"type\":\"ColumnDataSource\"}},\"id\":\"4121149e-b7db-4d90-8c74-e5a5f7a00b35\",\"type\":\"CDSView\"},{\"attributes\":{\"fill_color\":{\"value\":\"#2b83ba\"},\"size\":{\"units\":\"screen\",\"value\":25}},\"id\":\"4b0fb5e0-74d8-4489-9a20-94dff6b443f4\",\"type\":\"Circle\"},{\"attributes\":{\"callback\":null,\"data\":{\"end\":[\"sklearn.cross_decomposition.pls_\",\"sklearn.cross_decomposition.pls_\",\"sklearn.cross_decomposition.pls_\",\"sklearn.cross_decomposition.pls_._center_scale_xy\",\"sklearn.cross_decomposition.pls_._nipals_twoblocks_inner_loop\",\"sklearn.cross_decomposition.pls_._svd_cross_product\",\"sklearn.cross_decomposition.pls_.PLSCanonical\",\"sklearn.cross_decomposition.pls_.PLSRegression\",\"sklearn.cross_decomposition.pls_.PLSSVD\",\"sklearn.cross_decomposition.pls_._PLS\",\"sklearn.cross_decomposition.pls_\",\"sklearn.cross_decomposition.pls_\",\"sklearn.cross_decomposition.pls_\",\"sklearn.cross_decomposition.pls_\",\"sklearn.cross_decomposition.pls_\",\"sklearn.cross_decomposition.pls_\",\"sklearn.cross_decomposition.pls_\",\"sklearn.cross_decomposition.pls_\",\"sklearn.cross_decomposition.pls_\"],\"start\":[\"abc.abstractmethod\",\"scipy.linalg.decomp_svd.svd\",\"scipy.sparse.linalg.eigen.arpack.arpack.svds\",\"sklearn.cross_decomposition.pls_\",\"sklearn.cross_decomposition.pls_\",\"sklearn.cross_decomposition.pls_\",\"sklearn.cross_decomposition.pls_\",\"sklearn.cross_decomposition.pls_\",\"sklearn.cross_decomposition.pls_\",\"sklearn.cross_decomposition.pls_\",\"sklearn.utils.validation.check_is_fitted\",\"sklearn.base.RegressorMixin\",\"sklearn.utils.validation.check_array\",\"sklearn.base.BaseEstimator\",\"sklearn.base.TransformerMixin\",\"scipy.linalg.basic.pinv2\",\"sklearn.utils.extmath.svd_flip\",\"abc.ABCMeta\",\"sklearn.utils.validation.check_consistent_length\"]},\"selected\":{\"id\":\"76343204-1603-4191-8702-1e6f05395550\",\"type\":\"Selection\"},\"selection_policy\":{\"id\":\"2c00db7b-e629-4c89-97e9-1de3b2cdae14\",\"type\":\"UnionRenderers\"}},\"id\":\"2a9902f0-9020-43bb-9260-23dfdbfab935\",\"type\":\"ColumnDataSource\"},{\"attributes\":{\"callback\":null,\"data\":{\"index\":[\"abc.abstractmethod\",\"scipy.linalg.decomp_svd.svd\",\"scipy.sparse.linalg.eigen.arpack.arpack.svds\",\"sklearn.cross_decomposition.pls_\",\"sklearn.cross_decomposition.pls_._PLS\",\"sklearn.utils.validation.check_is_fitted\",\"sklearn.base.RegressorMixin\",\"sklearn.utils.validation.check_array\",\"sklearn.cross_decomposition.pls_._svd_cross_product\",\"sklearn.base.BaseEstimator\",\"sklearn.cross_decomposition.pls_.PLSRegression\",\"sklearn.cross_decomposition.pls_.PLSSVD\",\"sklearn.base.TransformerMixin\",\"sklearn.cross_decomposition.pls_._nipals_twoblocks_inner_loop\",\"scipy.linalg.basic.pinv2\",\"sklearn.utils.extmath.svd_flip\",\"abc.ABCMeta\",\"sklearn.cross_decomposition.pls_._center_scale_xy\",\"sklearn.utils.validation.check_consistent_length\",\"sklearn.cross_decomposition.pls_.PLSCanonical\"]},\"selected\":{\"id\":\"78c4a81a-cfd5-4882-9c0c-a4156cd461b4\",\"type\":\"Selection\"},\"selection_policy\":{\"id\":\"549d6c36-746a-4bda-87e0-8b5e91ccef1a\",\"type\":\"UnionRenderers\"}},\"id\":\"629efbe9-2547-4d8f-b374-5e947b8dfaa0\",\"type\":\"ColumnDataSource\"},{\"attributes\":{\"line_alpha\":{\"value\":0.8},\"line_color\":{\"value\":\"#cccccc\"},\"line_width\":{\"value\":2}},\"id\":\"116d7c5f-9cfd-48fd-a00f-cc6c0e119f07\",\"type\":\"MultiLine\"},{\"attributes\":{},\"id\":\"2c00db7b-e629-4c89-97e9-1de3b2cdae14\",\"type\":\"UnionRenderers\"},{\"attributes\":{\"callback\":null,\"renderers\":\"auto\",\"tooltips\":null},\"id\":\"9c4a77c0-6c5c-4193-b11c-dd5d9509c3c9\",\"type\":\"HoverTool\"},{\"attributes\":{\"renderers\":[{\"id\":\"f21ca762-8084-482a-bbcd-c54d04ce108e\",\"type\":\"GraphRenderer\"}],\"title\":{\"id\":\"640369e5-a3a6-449c-aa96-101c5fc61d32\",\"type\":\"Title\"},\"toolbar\":{\"id\":\"bf002332-2b3e-4c13-bbd3-720cb4c730a4\",\"type\":\"Toolbar\"},\"x_range\":{\"id\":\"a0eed89b-f4f2-4c63-822b-3a87328eb320\",\"type\":\"Range1d\"},\"x_scale\":{\"id\":\"a6978ad2-0c73-4351-84c2-be84cef6fbaf\",\"type\":\"LinearScale\"},\"y_range\":{\"id\":\"ceb9b92b-b662-40ac-b37a-2a1c9ffa1b02\",\"type\":\"Range1d\"},\"y_scale\":{\"id\":\"87226f58-e788-4669-b512-97153cb47838\",\"type\":\"LinearScale\"}},\"id\":\"9e372e7f-4c33-4ebb-b605-068d232c39f2\",\"type\":\"Plot\"},{\"attributes\":{\"data_source\":{\"id\":\"629efbe9-2547-4d8f-b374-5e947b8dfaa0\",\"type\":\"ColumnDataSource\"},\"glyph\":{\"id\":\"4b0fb5e0-74d8-4489-9a20-94dff6b443f4\",\"type\":\"Circle\"},\"hover_glyph\":{\"id\":\"e6375a3b-0275-4a42-a582-35d77adf0600\",\"type\":\"Circle\"},\"muted_glyph\":null,\"view\":{\"id\":\"8c443ea1-49c1-4f07-9248-f68f3df934e7\",\"type\":\"CDSView\"}},\"id\":\"5dff53e1-446d-453e-b0bc-a131b646370d\",\"type\":\"GlyphRenderer\"},{\"attributes\":{},\"id\":\"76343204-1603-4191-8702-1e6f05395550\",\"type\":\"Selection\"},{\"attributes\":{},\"id\":\"75629aae-8016-434e-a63c-c547b54a258b\",\"type\":\"NodesAndLinkedEdges\"},{\"attributes\":{},\"id\":\"78c4a81a-cfd5-4882-9c0c-a4156cd461b4\",\"type\":\"Selection\"},{\"attributes\":{\"plot\":null,\"text\":\"\"},\"id\":\"640369e5-a3a6-449c-aa96-101c5fc61d32\",\"type\":\"Title\"},{\"attributes\":{\"edge_renderer\":{\"id\":\"ccf54861-5cbe-4412-91a4-ccd7e48f3537\",\"type\":\"GlyphRenderer\"},\"inspection_policy\":{\"id\":\"75629aae-8016-434e-a63c-c547b54a258b\",\"type\":\"NodesAndLinkedEdges\"},\"layout_provider\":{\"id\":\"6ec1c6fa-bd2e-4d76-a79d-8a2f8887db20\",\"type\":\"StaticLayoutProvider\"},\"node_renderer\":{\"id\":\"5dff53e1-446d-453e-b0bc-a131b646370d\",\"type\":\"GlyphRenderer\"},\"selection_policy\":{\"id\":\"f534d7c7-d824-498a-a67d-e4feb7e31350\",\"type\":\"NodesOnly\"}},\"id\":\"f21ca762-8084-482a-bbcd-c54d04ce108e\",\"type\":\"GraphRenderer\"},{\"attributes\":{\"callback\":null,\"end\":1.1,\"start\":-1.1},\"id\":\"a0eed89b-f4f2-4c63-822b-3a87328eb320\",\"type\":\"Range1d\"},{\"attributes\":{\"data_source\":{\"id\":\"2a9902f0-9020-43bb-9260-23dfdbfab935\",\"type\":\"ColumnDataSource\"},\"glyph\":{\"id\":\"116d7c5f-9cfd-48fd-a00f-cc6c0e119f07\",\"type\":\"MultiLine\"},\"hover_glyph\":{\"id\":\"7a635167-084a-460a-ba19-4ef8fcb92c2b\",\"type\":\"MultiLine\"},\"muted_glyph\":null,\"view\":{\"id\":\"4121149e-b7db-4d90-8c74-e5a5f7a00b35\",\"type\":\"CDSView\"}},\"id\":\"ccf54861-5cbe-4412-91a4-ccd7e48f3537\",\"type\":\"GlyphRenderer\"}],\"root_ids\":[\"9e372e7f-4c33-4ebb-b605-068d232c39f2\"]},\"title\":\"Bokeh Application\",\"version\":\"0.13.0\"}};\n",
       "  var render_items = [{\"docid\":\"0f9a4a5a-99ef-4d49-a9ce-f64ad66f6f14\",\"roots\":{\"9e372e7f-4c33-4ebb-b605-068d232c39f2\":\"20ee8f39-5999-4263-b925-d9055e91007d\"}}];\n",
       "  root.Bokeh.embed.embed_items_notebook(docs_json, render_items);\n",
       "\n",
       "  }\n",
       "  if (root.Bokeh !== undefined) {\n",
       "    embed_document(root);\n",
       "  } else {\n",
       "    var attempts = 0;\n",
       "    var timer = setInterval(function(root) {\n",
       "      if (root.Bokeh !== undefined) {\n",
       "        embed_document(root);\n",
       "        clearInterval(timer);\n",
       "      }\n",
       "      attempts++;\n",
       "      if (attempts > 100) {\n",
       "        console.log(\"Bokeh: ERROR: Unable to run BokehJS code because BokehJS library is missing\")\n",
       "        clearInterval(timer);\n",
       "      }\n",
       "    }, 10, root)\n",
       "  }\n",
       "})(window);"
      ],
      "application/vnd.bokehjs_exec.v0+json": ""
     },
     "metadata": {
      "application/vnd.bokehjs_exec.v0+json": {
       "id": "9e372e7f-4c33-4ebb-b605-068d232c39f2"
      },
      "tags": []
     },
     "output_type": "display_data"
    }
   ],
   "source": [
    "from bokeh.io import show, output_notebook\n",
    "from bokeh.plotting import figure\n",
    "\n",
    "output_notebook()\n",
    "from bokeh.models.graphs import from_networkx\n",
    "from bokeh.models import Range1d, Plot\n",
    "from bokeh.models.graphs import NodesAndLinkedEdges\n",
    "from bokeh.models import Circle, HoverTool, MultiLine\n",
    "\n",
    "plot = Plot(x_range=Range1d(-1.1,1.1), y_range=Range1d(-1.1,1.1))\n",
    "\n",
    "# graph = from_networkx(G, nx.spring_layout, scale=2, center=(0,0))\n",
    "graph = from_networkx(sub_graph('sklearn.cross_decomposition.pls_',G), nx.spring_layout, scale=3, center=(0,0))\n",
    "plot.renderers.append(graph)\n",
    "\n",
    "\n",
    "# Blue circles for nodes, and light grey lines for edges\n",
    "graph.node_renderer.glyph = Circle(size=25, fill_color='#2b83ba')\n",
    "graph.edge_renderer.glyph = MultiLine(line_color=\"#cccccc\", line_alpha=0.8, line_width=2)\n",
    "\n",
    "# green hover for both nodes and edges\n",
    "graph.node_renderer.hover_glyph = Circle(size=25, fill_color='#abdda4')\n",
    "graph.edge_renderer.hover_glyph = MultiLine(line_color='#abdda4', line_width=4)\n",
    "\n",
    "# When we hover over nodes, highlight adjecent edges too\n",
    "graph.inspection_policy = NodesAndLinkedEdges()\n",
    "\n",
    "plot.add_tools(HoverTool(tooltips=None))\n",
    "\n",
    "show(plot)"
   ]
  },
  {
   "cell_type": "code",
   "execution_count": null,
   "metadata": {
    "colab": {
     "autoexec": {
      "startup": false,
      "wait_interval": 0
     }
    },
    "colab_type": "code",
    "collapsed": true,
    "id": "-ZfdqwAyH4rl"
   },
   "outputs": [],
   "source": []
  }
 ],
 "metadata": {
  "colab": {
   "collapsed_sections": [],
   "default_view": {},
   "name": "scoviz.ipynb",
   "provenance": [],
   "toc_visible": true,
   "version": "0.3.2",
   "views": {}
  },
  "kernelspec": {
   "display_name": "Python [conda env:py3]",
   "language": "python",
   "name": "conda-env-py3-py"
  },
  "language_info": {
   "codemirror_mode": {
    "name": "ipython",
    "version": 3
   },
   "file_extension": ".py",
   "mimetype": "text/x-python",
   "name": "python",
   "nbconvert_exporter": "python",
   "pygments_lexer": "ipython3",
   "version": "3.5.5"
  }
 },
 "nbformat": 4,
 "nbformat_minor": 2
}
